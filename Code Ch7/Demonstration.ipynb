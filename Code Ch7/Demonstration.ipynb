{
 "cells": [
  {
   "cell_type": "markdown",
   "id": "b7521715",
   "metadata": {},
   "source": [
    "#### Necessary Imports "
   ]
  },
  {
   "cell_type": "code",
   "execution_count": 25,
   "id": "b7ed03ed-1322-49e3-b2a2-33e94fb592ef",
   "metadata": {
    "height": 115,
    "tags": []
   },
   "outputs": [
    {
     "name": "stdout",
     "output_type": "stream",
     "text": [
      "········\n",
      "········\n"
     ]
    }
   ],
   "source": [
    "import os\n",
    "from openai import OpenAI\n",
    "import getpass\n",
    "\n",
    "\n",
    "openai_key = getpass.getpass()\n",
    "client = OpenAI(api_key = openai_key)\n",
    "os.environ[\"OPENAI_API_KEY\"] = getpass.getpass()"
   ]
  },
  {
   "cell_type": "markdown",
   "id": "bbad9cdb",
   "metadata": {},
   "source": [
    "####  Chat API by OpenAI\n",
    "\n"
   ]
  },
  {
   "cell_type": "code",
   "execution_count": 26,
   "id": "c718a504",
   "metadata": {},
   "outputs": [],
   "source": [
    "llm_model = 'gpt-4o'\n",
    "system_content = 'You are a friendly assistant who will help the user with their queries'\n",
    "user_content = 'What is water cycle ?'"
   ]
  },
  {
   "cell_type": "markdown",
   "id": "fd4e3a4e",
   "metadata": {},
   "source": [
    "####  Chechking the connection\n"
   ]
  },
  {
   "cell_type": "code",
   "execution_count": 27,
   "id": "a2674a14",
   "metadata": {},
   "outputs": [
    {
     "name": "stdout",
     "output_type": "stream",
     "text": [
      "The water cycle, also known as the hydrological cycle, describes the continuous movement of water on, above, and below the surface of the Earth. This cycle is crucial for distributing water across the planet and involves several key processes:\n",
      "\n",
      "1. **Evaporation**: Water from oceans, rivers, lakes, and other bodies of water heats up and turns into water vapor, rising into the atmosphere.\n",
      "\n",
      "2. **Transpiration**: Water is also released from plants and soil into the atmosphere as water vapor through a process called transpiration.\n",
      "\n",
      "3. **Condensation**: As water vapor rises and cools, it turns back into liquid water droplets, forming clouds in the atmosphere.\n",
      "\n",
      "4. **Precipitation**: When water droplets in clouds combine and become heavy enough, they fall back to the Earth's surface as precipitation (rain, snow, sleet, or hail).\n",
      "\n",
      "5. **Infiltration**: Some of the water that precipitates onto the ground soaks into the soil, becoming groundwater.\n",
      "\n",
      "6. **Runoff**: Water that does not infiltrate the ground flows over the surface and collects in rivers, lakes, and oceans.\n",
      "\n",
      "These processes create a closed loop, ensuring water is continuously recycled and made available to support life on Earth. The water cycle helps regulate climate, support ecosystems, and provide fresh water for drinking, agriculture, and other uses.\n"
     ]
    }
   ],
   "source": [
    "response = client.chat.completions.create(\n",
    "    model= llm_model,\n",
    "    messages=[\n",
    "    {\"role\": \"system\", \"content\": system_content},\n",
    "    {\"role\": \"user\", \"content\": user_content}]\n",
    ")\n",
    "\n",
    "\n",
    "print(response.choices[0].message.content)"
   ]
  },
  {
   "cell_type": "markdown",
   "id": "5ef146bd",
   "metadata": {},
   "source": [
    "####  ChatCompletion with translation task\n"
   ]
  },
  {
   "cell_type": "code",
   "execution_count": 28,
   "id": "1b32b57a",
   "metadata": {
    "height": 149,
    "tags": []
   },
   "outputs": [],
   "source": [
    "complaint_recieved = \"Mera order abhi tak nahi aaya. Mai Kya karun\"\n",
    "desired_tone = \"friendly and helpful\""
   ]
  },
  {
   "cell_type": "code",
   "execution_count": 29,
   "id": "80b558e2",
   "metadata": {
    "height": 132,
    "tags": []
   },
   "outputs": [
    {
     "name": "stdout",
     "output_type": "stream",
     "text": [
      "Respond to the complaint recieved in English that is delimited by single quotes\n",
      "with a tone that is friendly and helpful.\n",
      "text: 'Mera order abhi tak nahi aaya. Mai Kya karun'\n",
      "\n"
     ]
    }
   ],
   "source": [
    "prompt = f\"\"\"Respond to the complaint recieved in English \\\n",
    "that is delimited by single quotes\n",
    "with a tone that is {desired_tone}.\n",
    "text: '{complaint_recieved}'\n",
    "\"\"\"\n",
    "\n",
    "print(prompt)"
   ]
  },
  {
   "cell_type": "markdown",
   "id": "7ec3c555",
   "metadata": {},
   "source": [
    "####  Responding to the complaint "
   ]
  },
  {
   "cell_type": "code",
   "execution_count": 30,
   "id": "c883dcbd",
   "metadata": {
    "height": 30,
    "tags": []
   },
   "outputs": [],
   "source": [
    "response =  client.chat.completions.create(\n",
    "    model= llm_model,\n",
    "    messages=[\n",
    "    {\"role\": \"system\", \"content\": system_content},\n",
    "    {\"role\": \"user\", \"content\": prompt}]\n",
    ")"
   ]
  },
  {
   "cell_type": "code",
   "execution_count": 31,
   "id": "99b33f61",
   "metadata": {
    "height": 30,
    "tags": []
   },
   "outputs": [
    {
     "name": "stdout",
     "output_type": "stream",
     "text": [
      "Dear Customer,\n",
      "\n",
      "Thank you for reaching out to us. I understand your concern about your order not arriving yet, and I'm here to help you.\n",
      "\n",
      "Could you please provide me with your order number or any other relevant details? This will help me to quickly locate your order status and update you on its progress.\n",
      "\n",
      "Your patience and understanding are greatly appreciated. We're committed to ensuring that you receive your order as soon as possible.\n",
      "\n",
      "Looking forward to assisting you further!\n",
      "\n",
      "Best regards,\n",
      "[Your Name]\n"
     ]
    }
   ],
   "source": [
    "print(response.choices[0].message.content)"
   ]
  },
  {
   "cell_type": "markdown",
   "id": "f80482d1",
   "metadata": {},
   "source": [
    "####  LangChain\n"
   ]
  },
  {
   "cell_type": "markdown",
   "id": "8144223d",
   "metadata": {},
   "source": [
    "  In this section, you will establishing the connection with OpenAI using LangChain"
   ]
  },
  {
   "cell_type": "code",
   "execution_count": 33,
   "id": "f0d4a269",
   "metadata": {
    "height": 30,
    "tags": []
   },
   "outputs": [],
   "source": [
    "from langchain_openai import ChatOpenAI"
   ]
  },
  {
   "cell_type": "code",
   "execution_count": 34,
   "id": "1cc0c8b8",
   "metadata": {
    "height": 81,
    "tags": []
   },
   "outputs": [
    {
     "data": {
      "text/plain": [
       "ChatOpenAI(client=<openai.resources.chat.completions.Completions object at 0x10bcfce50>, async_client=<openai.resources.chat.completions.AsyncCompletions object at 0x10cbfe590>, model_name='gpt-4o', temperature=0.0, openai_api_key=SecretStr('**********'), openai_proxy='')"
      ]
     },
     "execution_count": 34,
     "metadata": {},
     "output_type": "execute_result"
    }
   ],
   "source": [
    "\n",
    "chat_call = ChatOpenAI(temperature=0.0, model=llm_model)\n",
    "chat_call"
   ]
  },
  {
   "cell_type": "markdown",
   "id": "b4d07256",
   "metadata": {},
   "source": [
    "#### Prompt template demonstration"
   ]
  },
  {
   "cell_type": "code",
   "execution_count": 35,
   "id": "57bda7d8",
   "metadata": {
    "height": 98,
    "tags": []
   },
   "outputs": [],
   "source": [
    "template_string = \"\"\"Respond to the complaint received in English \\\n",
    "that is delimited by single quotes\n",
    "with a tone that is {tone}.\n",
    "text: '{complaint}'\n",
    "\"\"\""
   ]
  },
  {
   "cell_type": "code",
   "execution_count": 36,
   "id": "3a31f246",
   "metadata": {
    "height": 81,
    "tags": []
   },
   "outputs": [],
   "source": [
    "from langchain.prompts import ChatPromptTemplate\n",
    "prompt_template = ChatPromptTemplate.from_template(template_string)\n"
   ]
  },
  {
   "cell_type": "code",
   "execution_count": 37,
   "id": "cac2cb16",
   "metadata": {
    "height": 30,
    "tags": []
   },
   "outputs": [
    {
     "data": {
      "text/plain": [
       "PromptTemplate(input_variables=['complaint', 'tone'], template=\"Respond to the complaint received in English that is delimited by single quotes\\nwith a tone that is {tone}.\\ntext: '{complaint}'\\n\")"
      ]
     },
     "execution_count": 37,
     "metadata": {},
     "output_type": "execute_result"
    }
   ],
   "source": [
    "prompt_template.messages[0].prompt"
   ]
  },
  {
   "cell_type": "code",
   "execution_count": 38,
   "id": "cdc5566c",
   "metadata": {
    "height": 30,
    "tags": []
   },
   "outputs": [
    {
     "data": {
      "text/plain": [
       "['complaint', 'tone']"
      ]
     },
     "execution_count": 38,
     "metadata": {},
     "output_type": "execute_result"
    }
   ],
   "source": [
    "prompt_template.messages[0].prompt.input_variables"
   ]
  },
  {
   "cell_type": "code",
   "execution_count": 39,
   "id": "dff3954f",
   "metadata": {
    "height": 64,
    "tags": []
   },
   "outputs": [],
   "source": [
    "user_request = prompt_template.format_messages(\n",
    "                    tone=desired_tone,\n",
    "                    complaint=complaint_recieved)"
   ]
  },
  {
   "cell_type": "code",
   "execution_count": 40,
   "id": "8c09d8b4",
   "metadata": {
    "height": 47,
    "tags": []
   },
   "outputs": [
    {
     "name": "stdout",
     "output_type": "stream",
     "text": [
      "[HumanMessage(content=\"Respond to the complaint received in English that is delimited by single quotes\\nwith a tone that is friendly and helpful.\\ntext: 'Mera order abhi tak nahi aaya. Mai Kya karun'\\n\")]\n"
     ]
    }
   ],
   "source": [
    "print((user_request))"
   ]
  },
  {
   "cell_type": "code",
   "execution_count": 45,
   "id": "bd789f9f",
   "metadata": {
    "height": 47,
    "tags": []
   },
   "outputs": [
    {
     "name": "stdout",
     "output_type": "stream",
     "text": [
      "Dear Customer,\n",
      "\n",
      "Thank you for reaching out to us. I'm sorry to hear that your order hasn't arrived yet. Let's get this sorted out for you as quickly as possible.\n",
      "\n",
      "Could you please provide me with your order number and any other relevant details? This will help me track your order and give you an update on its status.\n",
      "\n",
      "Thank you for your patience, and I look forward to resolving this for you soon!\n",
      "\n",
      "Best regards,\n",
      "[Your Name]\n"
     ]
    }
   ],
   "source": [
    "customer_response = chat_call.invoke(user_request)\n",
    "print(customer_response.content)"
   ]
  },
  {
   "cell_type": "markdown",
   "id": "36536e79",
   "metadata": {},
   "source": [
    "#### Output Parsers Demonstration"
   ]
  },
  {
   "cell_type": "code",
   "execution_count": 50,
   "id": "771a7f07",
   "metadata": {},
   "outputs": [],
   "source": [
    "product_description = \"\"\"\\\n",
    "The amazing Hercules sofa is a classic 3-seater sofa in\\\n",
    "velvet texture. Easy to clean with modern style, the sofa\\\n",
    "comes in five colours - blue, yellow, olive, grey and white\\\n",
    "Uplift the vibe of your living room in just 999 euros with the new Hercules. \n",
    "\"\"\""
   ]
  },
  {
   "cell_type": "code",
   "execution_count": 51,
   "id": "d4030486",
   "metadata": {},
   "outputs": [],
   "source": [
    "description_template = \"\"\"\\\n",
    "For the following text, extract the information in the format described below:\n",
    "\n",
    "Brand:  If the brand name is mentioned, extract its value else the value is 'unknown'\n",
    "\n",
    "Item:  If the furniture item is mentioned, extract its value else the value is 'unknown'\n",
    "\n",
    "Size: If the dimensions are mentioned then extract those \\\n",
    "      if the seating capacity is mentioned extract that\\\n",
    "      otherwise the value is 'unknown' \n",
    "\n",
    "Texture: If the texture is mentioned, extract its value else the value is 'unknown'\n",
    "\n",
    "Colours: If any colour is mentioned, extract the colour names else the value is 'unknown'\n",
    "\n",
    "Price: If the price is mentioned, extract its value along with the currency else the value is 'unkonwn'\n",
    "\n",
    "Format the final output as a JSON with the following keys:\n",
    "\n",
    "'Brand'\n",
    "'Item' \n",
    "'Size'\n",
    "'Texture'\n",
    "'Colours'\n",
    "'Price'\n",
    "\n",
    "text: {text}\n",
    "\"\"\""
   ]
  },
  {
   "cell_type": "code",
   "execution_count": 52,
   "id": "f2386e9c",
   "metadata": {
    "height": 81,
    "tags": []
   },
   "outputs": [
    {
     "name": "stdout",
     "output_type": "stream",
     "text": [
      "input_variables=['text'] messages=[HumanMessagePromptTemplate(prompt=PromptTemplate(input_variables=['text'], template=\"For the following text, extract the information in the format described below:\\n\\nBrand:  If the brand name is mentioned, extract its value else the value is 'unknown'\\n\\nItem:  If the furniture item is mentioned, extract its value else the value is 'unknown'\\n\\nSize: If the dimensions are mentioned then extract those       if the seating capacity is mentioned extract that      otherwise the value is 'unkown' \\n\\nTexture: If the texture is mentioned, extract its value else the value is 'unknown'\\n\\nColours: If any colour is mentioned, extract the colour names else the value is 'unknown'\\n\\nPrice: If the price is mentioned, extract its value along with the currecy else the value is 'unkown'\\n\\nFormat the final output as a JSON with the following keys:\\n\\n'Brand'\\n'Item' \\n'Size'\\n'Texture'\\n'Colours'\\n'Price'\\n\\ntext: {text}\\n\"))]\n"
     ]
    }
   ],
   "source": [
    "from langchain.prompts import ChatPromptTemplate\n",
    "\n",
    "prompt_template = ChatPromptTemplate.from_template(description_template)\n",
    "print(prompt_template)"
   ]
  },
  {
   "cell_type": "code",
   "execution_count": 56,
   "id": "121bb0d4",
   "metadata": {
    "height": 81,
    "tags": []
   },
   "outputs": [
    {
     "name": "stdout",
     "output_type": "stream",
     "text": [
      "content='```json\\n{\\n  \"Brand\": \"Hercules\",\\n  \"Item\": \"sofa\",\\n  \"Size\": \"3-seater\",\\n  \"Texture\": \"velvet\",\\n  \"Colours\": [\"blue\", \"yellow\", \"olive\", \"grey\", \"white\"],\\n  \"Price\": \"999 euros\"\\n}\\n```' response_metadata={'token_usage': {'completion_tokens': 67, 'prompt_tokens': 246, 'total_tokens': 313}, 'model_name': 'gpt-4o', 'system_fingerprint': 'fp_c4e5b6fa31', 'finish_reason': 'stop', 'logprobs': None} id='run-595f1623-fa7a-4203-bef3-4fdb34ffe0dd-0' usage_metadata={'input_tokens': 246, 'output_tokens': 67, 'total_tokens': 313}\n"
     ]
    }
   ],
   "source": [
    "messages = prompt_template.format_messages(text=product_description)\n",
    "chat = ChatOpenAI(temperature=0.0, model=llm_model)\n",
    "response = chat(messages)\n",
    "print(response)"
   ]
  },
  {
   "cell_type": "code",
   "execution_count": 57,
   "id": "10de1d28",
   "metadata": {
    "height": 30,
    "tags": []
   },
   "outputs": [
    {
     "name": "stdout",
     "output_type": "stream",
     "text": [
      "<class 'str'>\n"
     ]
    }
   ],
   "source": [
    "print(type(response.content))"
   ]
  },
  {
   "cell_type": "code",
   "execution_count": 60,
   "id": "531a2026",
   "metadata": {},
   "outputs": [
    {
     "name": "stdout",
     "output_type": "stream",
     "text": [
      "```json\n",
      "{\n",
      "  \"Brand\": \"Hercules\",\n",
      "  \"Item\": \"sofa\",\n",
      "  \"Size\": \"3-seater\",\n",
      "  \"Texture\": \"velvet\",\n",
      "  \"Colours\": [\"blue\", \"yellow\", \"olive\", \"grey\", \"white\"],\n",
      "  \"Price\": \"999 euros\"\n",
      "}\n",
      "```\n"
     ]
    }
   ],
   "source": [
    "print((response.content))"
   ]
  },
  {
   "cell_type": "code",
   "execution_count": 59,
   "id": "3a3c0609",
   "metadata": {
    "height": 81,
    "tags": []
   },
   "outputs": [
    {
     "ename": "AttributeError",
     "evalue": "'str' object has no attribute 'get'",
     "output_type": "error",
     "traceback": [
      "\u001b[0;31m---------------------------------------------------------------------------\u001b[0m",
      "\u001b[0;31mAttributeError\u001b[0m                            Traceback (most recent call last)",
      "Cell \u001b[0;32mIn[59], line 4\u001b[0m\n\u001b[1;32m      1\u001b[0m \u001b[38;5;66;03m# You will get an error by running this line of code \u001b[39;00m\n\u001b[1;32m      2\u001b[0m \u001b[38;5;66;03m# because'gift' is not a dictionary\u001b[39;00m\n\u001b[1;32m      3\u001b[0m \u001b[38;5;66;03m# 'gift' is a string\u001b[39;00m\n\u001b[0;32m----> 4\u001b[0m response\u001b[38;5;241m.\u001b[39mcontent\u001b[38;5;241m.\u001b[39mget(\u001b[38;5;124m'\u001b[39m\u001b[38;5;124mBrand\u001b[39m\u001b[38;5;124m'\u001b[39m)\n",
      "\u001b[0;31mAttributeError\u001b[0m: 'str' object has no attribute 'get'"
     ]
    }
   ],
   "source": [
    "# You will get an error by running this line of code \n",
    "# because'gift' is not a dictionary\n",
    "# 'gift' is a string\n",
    "response.content.get('Brand')"
   ]
  },
  {
   "cell_type": "markdown",
   "id": "5f7de2b8",
   "metadata": {},
   "source": [
    "#### Parsing the  output  into a Python dictionary"
   ]
  },
  {
   "cell_type": "code",
   "execution_count": 61,
   "id": "c2e0ec49",
   "metadata": {
    "height": 47,
    "tags": []
   },
   "outputs": [],
   "source": [
    "from langchain.output_parsers import ResponseSchema\n",
    "from langchain.output_parsers import StructuredOutputParser"
   ]
  },
  {
   "cell_type": "code",
   "execution_count": 75,
   "id": "9dea24b4",
   "metadata": {
    "height": 353,
    "tags": []
   },
   "outputs": [],
   "source": [
    "brand_schema = ResponseSchema(name=\"Brand\",\n",
    "                             description=\"If the brand name is mentioned, \\\n",
    "                             extract its value else the value is 'unknown'\")\n",
    "item_schema = ResponseSchema(name=\"Item\",\n",
    "                             description=\"If the furniture item is mentioned,\\\n",
    "                                          extract its value else the value is 'unknown'\")\n",
    "size_schema = ResponseSchema(name=\"Size\",\n",
    "                             description=\"If the dimensions are mentioned then extract those \\\n",
    "                                          if the seating capacity is mentioned extract that\\\n",
    "                                          otherwise the value is 'unknown' \")\n",
    "\n",
    "texture_schema = ResponseSchema(name=\"Texture\",\n",
    "                                description=\"If the texture is mentioned, extract its value \\\n",
    "                                             else the value is 'unknown'\")\n",
    "\n",
    "colours_schema = ResponseSchema(name=\"Colours\",\n",
    "                                description=\"If any colour is mentioned, extract the colour names \\\n",
    "                                else the value is 'unknown''\")\n",
    "\n",
    "price_schema = ResponseSchema(name=\"Price\",\n",
    "                              description=\"If the price is mentioned, extract its value along with the currency\\\n",
    "                                           else the value is 'unknown' \")\n",
    "\n",
    "response_schema = [brand_schema, \n",
    "                    item_schema,\n",
    "                    size_schema,\n",
    "                    texture_schema,\n",
    "                    colours_schema,\n",
    "                    price_schema]"
   ]
  },
  {
   "cell_type": "code",
   "execution_count": 77,
   "id": "05482475",
   "metadata": {},
   "outputs": [
    {
     "name": "stdout",
     "output_type": "stream",
     "text": [
      "The output should be a markdown code snippet formatted in the following schema, including the leading and trailing \"```json\" and \"```\":\n",
      "\n",
      "```json\n",
      "{\n",
      "\t\"Brand\": string  // If the brand name is mentioned,                              extract its value else the value is 'unknown'\n",
      "\t\"Item\": string  // If the furniture item is mentioned,                                          extract its value else the value is 'unknown'\n",
      "\t\"Size\": string  // If the dimensions are mentioned then extract those                                           if the seating capacity is mentioned extract that                                          otherwise the value is 'unknown' \n",
      "\t\"Texture\": string  // If the texture is mentioned, extract its value                                              else the value is 'unknown'\n",
      "\t\"Colours\": string  // If any colour is mentioned, extract the colour names                                 else the value is 'unknown''\n",
      "\t\"Price\": string  // If the price is mentioned, extract its value along with the currency                                           else the value is 'unknown' \n",
      "}\n",
      "```\n"
     ]
    }
   ],
   "source": [
    "op_parser = StructuredOutputParser.from_response_schemas(response_schema)\n",
    "get_instructions = op_parser.get_format_instructions()\n",
    "print(get_instructions)\n"
   ]
  },
  {
   "cell_type": "code",
   "execution_count": 78,
   "id": "082947fc",
   "metadata": {
    "height": 370,
    "tags": []
   },
   "outputs": [],
   "source": [
    "prompt_template = ChatPromptTemplate.from_template(template=description_template)\n",
    "\n",
    "format_message = prompt_template.format_messages(text=product_description, \n",
    "                                  format_instructions=get_instructions)"
   ]
  },
  {
   "cell_type": "code",
   "execution_count": 80,
   "id": "1f1537a7",
   "metadata": {
    "height": 30,
    "tags": []
   },
   "outputs": [
    {
     "name": "stdout",
     "output_type": "stream",
     "text": [
      "For the following text, extract the information in the format described below:\n",
      "\n",
      "Brand:  If the brand name is mentioned, extract its value else the value is 'unknown'\n",
      "\n",
      "Item:  If the furniture item is mentioned, extract its value else the value is 'unknown'\n",
      "\n",
      "Size: If the dimensions are mentioned then extract those       if the seating capacity is mentioned extract that      otherwise the value is 'unkown' \n",
      "\n",
      "Texture: If the texture is mentioned, extract its value else the value is 'unknown'\n",
      "\n",
      "Colours: If any colour is mentioned, extract the colour names else the value is 'unknown'\n",
      "\n",
      "Price: If the price is mentioned, extract its value along with the currecy else the value is 'unkown'\n",
      "\n",
      "Format the final output as a JSON with the following keys:\n",
      "\n",
      "'Brand'\n",
      "'Item' \n",
      "'Size'\n",
      "'Texture'\n",
      "'Colours'\n",
      "'Price'\n",
      "\n",
      "text: The amazing Hercules sofa is a classic 3-seater sofa invelvet texture. Easy to clean with modern style, the sofacomes in five colours - blue, yellow, olive, grey and whiteUplift the vibe of your living room in just 999 euros with the new Hercules. \n",
      "\n",
      "\n"
     ]
    }
   ],
   "source": [
    "print(format_message[0].content)"
   ]
  },
  {
   "cell_type": "code",
   "execution_count": 81,
   "id": "7b663657",
   "metadata": {
    "height": 30,
    "tags": []
   },
   "outputs": [],
   "source": [
    "response = chat(format_message)"
   ]
  },
  {
   "cell_type": "code",
   "execution_count": 82,
   "id": "b8c3a9fe",
   "metadata": {
    "height": 30,
    "tags": []
   },
   "outputs": [
    {
     "name": "stdout",
     "output_type": "stream",
     "text": [
      "```json\n",
      "{\n",
      "  \"Brand\": \"Hercules\",\n",
      "  \"Item\": \"sofa\",\n",
      "  \"Size\": \"3-seater\",\n",
      "  \"Texture\": \"velvet\",\n",
      "  \"Colours\": [\"blue\", \"yellow\", \"olive\", \"grey\", \"white\"],\n",
      "  \"Price\": \"999 euros\"\n",
      "}\n",
      "```\n"
     ]
    }
   ],
   "source": [
    "print(response.content)"
   ]
  },
  {
   "cell_type": "code",
   "execution_count": 88,
   "id": "904f1c25",
   "metadata": {
    "height": 30,
    "tags": []
   },
   "outputs": [],
   "source": [
    "output = op_parser.parse(response.content)"
   ]
  },
  {
   "cell_type": "code",
   "execution_count": 89,
   "id": "d48b647a",
   "metadata": {
    "height": 30,
    "tags": []
   },
   "outputs": [
    {
     "data": {
      "text/plain": [
       "{'Brand': 'Hercules',\n",
       " 'Item': 'sofa',\n",
       " 'Size': '3-seater',\n",
       " 'Texture': 'velvet',\n",
       " 'Colours': ['blue', 'yellow', 'olive', 'grey', 'white'],\n",
       " 'Price': '999 euros'}"
      ]
     },
     "execution_count": 89,
     "metadata": {},
     "output_type": "execute_result"
    }
   ],
   "source": [
    "output"
   ]
  },
  {
   "cell_type": "code",
   "execution_count": 90,
   "id": "4346150f",
   "metadata": {
    "height": 30,
    "tags": []
   },
   "outputs": [
    {
     "data": {
      "text/plain": [
       "'Hercules'"
      ]
     },
     "execution_count": 90,
     "metadata": {},
     "output_type": "execute_result"
    }
   ],
   "source": [
    "output['Brand']"
   ]
  }
 ],
 "metadata": {
  "kernelspec": {
   "display_name": "Python 3 (ipykernel)",
   "language": "python",
   "name": "python3"
  },
  "language_info": {
   "codemirror_mode": {
    "name": "ipython",
    "version": 3
   },
   "file_extension": ".py",
   "mimetype": "text/x-python",
   "name": "python",
   "nbconvert_exporter": "python",
   "pygments_lexer": "ipython3",
   "version": "3.11.3"
  }
 },
 "nbformat": 4,
 "nbformat_minor": 5
}
