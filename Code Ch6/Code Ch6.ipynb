{
 "cells": [
  {
   "cell_type": "code",
   "execution_count": null,
   "id": "2671c4f4",
   "metadata": {},
   "outputs": [],
   "source": [
    "Meteor Score"
   ]
  },
  {
   "cell_type": "code",
   "execution_count": 5,
   "id": "cdeb59d3",
   "metadata": {},
   "outputs": [
    {
     "name": "stderr",
     "output_type": "stream",
     "text": [
      "[nltk_data] Downloading package wordnet to\n",
      "[nltk_data]     /Users/bhawnasingh/nltk_data...\n",
      "[nltk_data]   Package wordnet is already up-to-date!\n",
      "[nltk_data] Downloading package punkt to\n",
      "[nltk_data]     /Users/bhawnasingh/nltk_data...\n",
      "[nltk_data]   Package punkt is already up-to-date!\n",
      "[nltk_data] Downloading package omw-1.4 to\n",
      "[nltk_data]     /Users/bhawnasingh/nltk_data...\n",
      "[nltk_data]   Package omw-1.4 is already up-to-date!\n"
     ]
    },
    {
     "name": "stdout",
     "output_type": "stream",
     "text": [
      "{'meteor': 0.38448275862068976}\n"
     ]
    }
   ],
   "source": [
    "import evaluate\n",
    "\n",
    "meteor = evaluate.load('meteor')\n",
    "candidate = [\"Every student will follow the teacher's instructions\"]\n",
    "reference = [\"It is mandatory for all students to follow their teacher's instructions\"]\n",
    "results = meteor.compute(predictions=candidate, references=reference)\n",
    "\n",
    "print(results)"
   ]
  },
  {
   "cell_type": "code",
   "execution_count": 9,
   "id": "26c42dee",
   "metadata": {},
   "outputs": [
    {
     "name": "stdout",
     "output_type": "stream",
     "text": [
      "{'bleu': 0.0, 'precisions': [0.42857142857142855, 0.16666666666666666, 0.0, 0.0], 'brevity_penalty': 0.5647181220077593, 'length_ratio': 0.6363636363636364, 'translation_length': 7, 'reference_length': 11}\n"
     ]
    }
   ],
   "source": [
    "bleu = evaluate.load('bleu')\n",
    "candidate = [\"Every student will follow the teacher's instructions\"]\n",
    "reference = [\"It is mandatory for all students to follow their teacher's instructions\"]\n",
    "results = bleu.compute(predictions=candidate, references=reference)\n",
    "\n",
    "print(results)"
   ]
  },
  {
   "cell_type": "code",
   "execution_count": 10,
   "id": "bfea1ac7",
   "metadata": {},
   "outputs": [
    {
     "name": "stdout",
     "output_type": "stream",
     "text": [
      "{'rouge1': 0.4, 'rouge2': 0.2222222222222222, 'rougeL': 0.4, 'rougeLsum': 0.4}\n"
     ]
    }
   ],
   "source": [
    "import evaluate\n",
    "\n",
    "meteor = evaluate.load('rouge')\n",
    "candidate = [\"Every student will follow the teacher's instructions\"]\n",
    "reference = [\"It is mandatory for all students to follow their teacher's instructions\"]\n",
    "results = meteor.compute(predictions=candidate, references=reference)\n",
    "\n",
    "print(results)"
   ]
  },
  {
   "cell_type": "code",
   "execution_count": null,
   "id": "20ba4b42",
   "metadata": {},
   "outputs": [],
   "source": []
  }
 ],
 "metadata": {
  "kernelspec": {
   "display_name": "Python 3 (ipykernel)",
   "language": "python",
   "name": "python3"
  },
  "language_info": {
   "codemirror_mode": {
    "name": "ipython",
    "version": 3
   },
   "file_extension": ".py",
   "mimetype": "text/x-python",
   "name": "python",
   "nbconvert_exporter": "python",
   "pygments_lexer": "ipython3",
   "version": "3.11.3"
  }
 },
 "nbformat": 4,
 "nbformat_minor": 5
}
