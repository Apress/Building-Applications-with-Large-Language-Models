{
 "cells": [
  {
   "cell_type": "markdown",
   "id": "36ee95f4",
   "metadata": {},
   "source": [
    "#### Necessary Imports"
   ]
  },
  {
   "cell_type": "code",
   "execution_count": 4,
   "id": "7332930e",
   "metadata": {
    "scrolled": true
   },
   "outputs": [
    {
     "name": "stdout",
     "output_type": "stream",
     "text": [
      "········\n"
     ]
    }
   ],
   "source": [
    "import getpass\n",
    "import os\n",
    "from langchain_openai import ChatOpenAI,OpenAIEmbeddings\n",
    "from langchain_community.document_loaders import TextLoader\n",
    "from langchain.vectorstores import Chroma\n",
    "from langchain.memory import ConversationBufferMemory\n",
    "from langchain_text_splitters import RecursiveCharacterTextSplitter\n",
    "from langchain.chains import ConversationalRetrievalChain\n",
    "\n",
    "os.environ[\"OPENAI_API_KEY\"] = getpass.getpass()"
   ]
  },
  {
   "cell_type": "markdown",
   "id": "e185bc36",
   "metadata": {},
   "source": [
    "#### Loading the model "
   ]
  },
  {
   "cell_type": "code",
   "execution_count": 6,
   "id": "4870bfc2",
   "metadata": {},
   "outputs": [
    {
     "name": "stdout",
     "output_type": "stream",
     "text": [
      "My name is Bhawna Singh, I work in Ireland's reserach center. I am situated in Dublin however I am originally from Jaipur, India. I speak Hindi and English. When I was 12, I had a dog and his name was Shimmy. \n"
     ]
    }
   ],
   "source": [
    "loader = TextLoader(\"data/data.txt\")\n",
    "document = loader.load()\n",
    "print(document[0].page_content)"
   ]
  },
  {
   "cell_type": "markdown",
   "id": "52aed35c",
   "metadata": {},
   "source": [
    "#### Forming the Retriever "
   ]
  },
  {
   "cell_type": "code",
   "execution_count": 7,
   "id": "83e585ef",
   "metadata": {},
   "outputs": [
    {
     "name": "stdout",
     "output_type": "stream",
     "text": [
      "[Document(page_content=\"My name is Bhawna Singh, I work in Ireland's reserach center. I am situated in Dublin however I am originally from Jaipur, India. I speak Hindi and English. When I was 12, I had a dog and his name was Shimmy.\", metadata={'source': 'data/data.txt'})]\n"
     ]
    }
   ],
   "source": [
    "text_splitter = RecursiveCharacterTextSplitter()\n",
    "splits = text_splitter.split_documents(document)\n",
    "vectorstore = Chroma.from_documents(documents=splits, embedding=OpenAIEmbeddings())\n",
    "print(splits)"
   ]
  },
  {
   "cell_type": "markdown",
   "id": "57aec7cf",
   "metadata": {},
   "source": [
    "#### Forming the retrieval chain"
   ]
  },
  {
   "cell_type": "code",
   "execution_count": 8,
   "id": "b9e9b820",
   "metadata": {},
   "outputs": [],
   "source": [
    "llm = ChatOpenAI(model=\"gpt-4o\")\n",
    "memory = ConversationBufferMemory(memory_key='chat_history', return_messages=True)\n",
    "conversation_chain = ConversationalRetrievalChain.from_llm(\n",
    "    llm=llm,\n",
    "    chain_type=\"stuff\",\n",
    "    retriever=vectorstore.as_retriever(search_kwargs={\"k\": 1}),\n",
    "    memory = memory\n",
    ")"
   ]
  },
  {
   "cell_type": "markdown",
   "id": "533c59a2",
   "metadata": {},
   "source": [
    "#### Question Answering with RAG"
   ]
  },
  {
   "cell_type": "code",
   "execution_count": 9,
   "id": "31e1007f",
   "metadata": {},
   "outputs": [
    {
     "data": {
      "text/plain": [
       "'Your name is Bhawna Singh.'"
      ]
     },
     "execution_count": 9,
     "metadata": {},
     "output_type": "execute_result"
    }
   ],
   "source": [
    "conversation_chain.invoke(\"What is my name?\")['answer']"
   ]
  },
  {
   "cell_type": "code",
   "execution_count": 10,
   "id": "5f79f569",
   "metadata": {},
   "outputs": [
    {
     "data": {
      "text/plain": [
       "'Bhawna Singh had a dog named Shimmy when she was 12 years old.'"
      ]
     },
     "execution_count": 10,
     "metadata": {},
     "output_type": "execute_result"
    }
   ],
   "source": [
    "conversation_chain.invoke(\"When did I have a dog?\")['answer']"
   ]
  },
  {
   "cell_type": "code",
   "execution_count": 11,
   "id": "7db1181d",
   "metadata": {},
   "outputs": [
    {
     "data": {
      "text/plain": [
       "\"Bhawna Singh's dog's name was Shimmy.\""
      ]
     },
     "execution_count": 11,
     "metadata": {},
     "output_type": "execute_result"
    }
   ],
   "source": [
    "conversation_chain.invoke(\"What was my dog's name?\")['answer']"
   ]
  },
  {
   "cell_type": "code",
   "execution_count": 12,
   "id": "15abf0d2",
   "metadata": {},
   "outputs": [
    {
     "data": {
      "text/plain": [
       "\"Bhawna Singh works at Ireland's research center in Dublin.\""
      ]
     },
     "execution_count": 12,
     "metadata": {},
     "output_type": "execute_result"
    }
   ],
   "source": [
    "conversation_chain.invoke(\"Where do I work?\")['answer']"
   ]
  }
 ],
 "metadata": {
  "kernelspec": {
   "display_name": "Python 3 (ipykernel)",
   "language": "python",
   "name": "python3"
  },
  "language_info": {
   "codemirror_mode": {
    "name": "ipython",
    "version": 3
   },
   "file_extension": ".py",
   "mimetype": "text/x-python",
   "name": "python",
   "nbconvert_exporter": "python",
   "pygments_lexer": "ipython3",
   "version": "3.11.3"
  }
 },
 "nbformat": 4,
 "nbformat_minor": 5
}
