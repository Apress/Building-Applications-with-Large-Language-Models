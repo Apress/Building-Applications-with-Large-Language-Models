{
 "cells": [
  {
   "cell_type": "code",
   "execution_count": 9,
   "id": "82393d98",
   "metadata": {},
   "outputs": [],
   "source": [
    "from openai import OpenAI\n",
    "import os\n",
    "from constants import APIKEY"
   ]
  },
  {
   "cell_type": "code",
   "execution_count": 10,
   "id": "b0bdc087",
   "metadata": {},
   "outputs": [],
   "source": [
    "openai_key = APIKEY\n",
    "client = OpenAI(api_key = openai_key)"
   ]
  },
  {
   "cell_type": "markdown",
   "id": "fc93d6c5",
   "metadata": {},
   "source": [
    "Zero-Shot Prompting "
   ]
  },
  {
   "cell_type": "markdown",
   "id": "6b9fdf2b",
   "metadata": {},
   "source": [
    "Entity extration"
   ]
  },
  {
   "cell_type": "code",
   "execution_count": 25,
   "id": "3a90a6ee",
   "metadata": {},
   "outputs": [
    {
     "name": "stdout",
     "output_type": "stream",
     "text": [
      "In the sentence \"Priya and I visited Paris and ate croissants worth 500 euros.\", the entities are:\n",
      "\n",
      "1. Person: Priya\n",
      "2. Location: Paris\n",
      "3. Money: 500 euros\n",
      "\n",
      "These are the notable entities extracted from the sentence.\n"
     ]
    }
   ],
   "source": [
    "response = client.chat.completions.create(\n",
    "    model=\"gpt-4o\",\n",
    "    messages=[\n",
    "    {\"role\": \"system\", \"content\": \"You are a helpful assistant who will help the user with their queries\"},\n",
    "    {\"role\": \"user\", \"content\":  \"Extract entities §§in the following sentence:-  ''' Priya and I visited Paris and ate croissants worth 500 euros. ''' \" }]\n",
    "\n",
    ")\n",
    "\n",
    "print(response.choices[0].message.content)"
   ]
  },
  {
   "cell_type": "markdown",
   "id": "bba6704e",
   "metadata": {},
   "source": [
    "Translation "
   ]
  },
  {
   "cell_type": "code",
   "execution_count": 26,
   "id": "ec6524ff",
   "metadata": {},
   "outputs": [
    {
     "name": "stdout",
     "output_type": "stream",
     "text": [
      "मैं फिलहाल आम खाने की तलब महसूस कर रहा/रही हूँ।\n"
     ]
    }
   ],
   "source": [
    "response = client.chat.completions.create(\n",
    "    model=\"gpt-4o\",\n",
    "    messages=[\n",
    "    {\"role\": \"system\", \"content\": \"You are a helpful assistant who will help the user with their queries\"},\n",
    "    {\"role\": \"user\", \"content\":  \"Translate the following sentence into Hindi:-  ''' I am craving mangoes currently''' \" }]\n",
    "\n",
    ")\n",
    "\n",
    "print(response.choices[0].message.content)"
   ]
  },
  {
   "cell_type": "markdown",
   "id": "b747fb9d",
   "metadata": {},
   "source": [
    "Reasoning "
   ]
  },
  {
   "cell_type": "code",
   "execution_count": 30,
   "id": "f30a92fb",
   "metadata": {},
   "outputs": [
    {
     "name": "stdout",
     "output_type": "stream",
     "text": [
      "The third value is GHF. Each letter in the sequence follows the alphabetical pattern of +2, +3, +4 respectively.\n"
     ]
    }
   ],
   "source": [
    "response = client.chat.completions.create(\n",
    "    model=\"gpt-4o\",\n",
    "    messages=[\n",
    "    {\"role\": \"system\", \"content\": \"You are a helpful assistant who will help the user with their queries\"},\n",
    "    {\"role\": \"user\", \"content\":  \" Guess the third value of the sequence and explain your answer in just one line.  ''' ANC, CPD, ERE, _____, IVG ''' \" }],\n",
    "\n",
    ")\n",
    "\n",
    "print(response.choices[0].message.content)"
   ]
  },
  {
   "cell_type": "markdown",
   "id": "b9ee75a0",
   "metadata": {},
   "source": [
    "Coding "
   ]
  },
  {
   "cell_type": "code",
   "execution_count": 31,
   "id": "ae181e25",
   "metadata": {},
   "outputs": [
    {
     "name": "stdout",
     "output_type": "stream",
     "text": [
      "Sure, here's a concise Python code to calculate the prime factors of a number:\n",
      "\n",
      "```python\n",
      "def prime_factors(n):\n",
      "    i = 2\n",
      "    factors = []\n",
      "    while i * i <= n:\n",
      "        if n % i:\n",
      "            i += 1\n",
      "        else:\n",
      "            n //= i\n",
      "            factors.append(i)\n",
      "    if n > 1:\n",
      "        factors.append(n)\n",
      "    return factors\n",
      "\n",
      "# Example usage:\n",
      "number = 56\n",
      "print(prime_factors(number))\n",
      "```\n",
      "\n",
      "This function `prime_factors` takes an integer `n` and returns a list of its prime factors. The example usage calculates the prime factors of 56.\n"
     ]
    }
   ],
   "source": [
    "response = client.chat.completions.create(\n",
    "    model=\"gpt-4o\",\n",
    "    messages=[\n",
    "    {\"role\": \"system\", \"content\": \"You are a helpful assistant who will help the user with their queries\"},\n",
    "    {\"role\": \"user\", \"content\":  \" Help me write a python code for calculating prime factors of a number. Make the code as short as you can  \" }],\n",
    "\n",
    ")\n",
    "\n",
    "print(response.choices[0].message.content)"
   ]
  },
  {
   "cell_type": "markdown",
   "id": "e1cfa749",
   "metadata": {},
   "source": [
    "Poem generation "
   ]
  },
  {
   "cell_type": "code",
   "execution_count": 32,
   "id": "c6beac52",
   "metadata": {},
   "outputs": [
    {
     "name": "stdout",
     "output_type": "stream",
     "text": [
      "In hand a humble pen does lie,\n",
      "It writes the dreams that soar and fly,\n",
      "With ink it dances on the page,\n",
      "A tool of wisdom, quiet sage.\n"
     ]
    }
   ],
   "source": [
    "response = client.chat.completions.create(\n",
    "    model=\"gpt-4o\",\n",
    "    messages=[\n",
    "    {\"role\": \"system\", \"content\": \"You are a helpful assistant who will help the user with their queries\"},\n",
    "    {\"role\": \"user\", \"content\":  \"Generate a poem in 4 lines about a pen \" }],\n",
    "    temperature=0.9,\n",
    "    frequency_penalty=1.3\n",
    "\n",
    ")\n",
    "\n",
    "print(response.choices[0].message.content)"
   ]
  },
  {
   "cell_type": "markdown",
   "id": "540508fe",
   "metadata": {},
   "source": [
    "Few Shot Prompting "
   ]
  },
  {
   "cell_type": "code",
   "execution_count": 43,
   "id": "c6fda7fd",
   "metadata": {},
   "outputs": [
    {
     "name": "stdout",
     "output_type": "stream",
     "text": [
      "**Scene 4: In the Office**\n",
      "\n",
      "**Colleague:** Morning! Busy day ahead?\n",
      "\n",
      "**Character:** Morning! I'm actually searching for some magic.\n",
      "\n",
      "**Colleague:** Magic? Like productivity hacks?\n",
      "\n",
      "**Character:** No, like real magic. You know, stuff that makes everything sparkle.\n",
      "\n",
      "**Colleague:** (laughs) I think you need coffee. Want to go grab some?\n",
      "\n",
      "**Character:** Already had my oat latte with a dash of magic. Didn’t quite work.\n",
      "\n",
      "**Colleague:** Well, maybe it’s not the coffee. How about we tackle those emails first?\n",
      "\n",
      "**Character:** Emails... not quite magical, but okay. Here’s hoping for enchanted inboxes.\n"
     ]
    }
   ],
   "source": [
    "response = client.chat.completions.create(\n",
    "    model=\"gpt-4o\",\n",
    "    messages=[{\n",
    "'role': 'system',\n",
    "'content': 'You are an assitant to a screenwriter and you have to help him develop a fictional character use the examples delimited by tripple quotes to understand the character. '\n",
    "       \n",
    "        '''\n",
    "          Scene 1: Talking to a Barista.\n",
    "        Character: Can I have a magical coffee? \n",
    "        Barista: Yes, which coffee though ? \n",
    "        Character: I want an oat latte with a dash of magic. \n",
    "        Barista: Here is your oat latte. Hope, it makes your day magical. \n",
    "        '''\n",
    "        '''\n",
    "        Scene 2: Walking on the road, the character bumps into a cyclist. \n",
    "        Character: Oh sorry! this is not magical. \n",
    "        Cyclist: What !!!\n",
    "        Character: I hope you are fine, I am seeking magic.  \n",
    "        Cyclist: Get off my way!!\n",
    "        '''\n",
    "        '''\n",
    "        Scene 3: At a pharmacy. \n",
    "        Character: Can I get a magic pill? \n",
    "        Pharmacist: That is illegal! \n",
    "        Character: I have a prescription and the doctor says I need the magic. \n",
    "        Pharmacist: Security!!! Please, get this man outside now.     \n",
    "      \n",
    "        '''\n",
    "    },\n",
    "{\n",
    "'role': 'user',\n",
    "'content': 'Generate a scene where the character is talking to his colleague in his office. in only 100 words.'\n",
    "}],\n",
    "temperature=1\n",
    ")\n",
    "\n",
    "print(response.choices[0].message.content)"
   ]
  },
  {
   "cell_type": "markdown",
   "id": "c7c50816",
   "metadata": {},
   "source": [
    "Without Chain-of-Thought Prompting "
   ]
  },
  {
   "cell_type": "code",
   "execution_count": 50,
   "id": "05d4af25",
   "metadata": {},
   "outputs": [
    {
     "name": "stdout",
     "output_type": "stream",
     "text": [
      "38 pairs.\n"
     ]
    }
   ],
   "source": [
    "response = client.chat.completions.create(\n",
    "    model=\"gpt-4o\",\n",
    "    messages=[\n",
    "    {\"role\": \"system\", \"content\": \"You are a helpful assistant who will help the user with their queries. The examples are delimited for your understanding.\"\n",
    "    '''\n",
    "    Q. Peter has five dollars. He gets 9 dollars more from his grandfather and 15 more from his father. He bought an icecream for himself for 200 cents and gave 600 cents to his friend, John. How much money does he have now. Give me just the figure. \n",
    "    A. 21 dollars. \n",
    "    '''\n",
    "     \n",
    "    '''\n",
    "    Q. Ram has ninety one water mellons. He gives 5 to his sister and sells 6 each day. In how many days Ram will be out of all water melons. Give me just the figure. \n",
    "    A. 8 days. \n",
    "    '''\n",
    "   \n",
    "    '''\n",
    "    Q. I use my laptop 8 hours a day. Then my brother uses it for three hours a day. For each our, I have to pay 40 cents to my father. How much money am I going to pay my father for our combined usage in a week ?. Give me just the figure. \n",
    "    A. 3080 cents. \n",
    "    '''\n",
    "    },\n",
    "    {\"role\": \"user\", \"content\":  \"Ama and I are going to buy earrings. I bought twenty pairs and gave 5 to Ama who also bought 25 pairs and gave me three. How many earrings do I have now ? Give me just the figure. \"}]\n",
    ")\n",
    "\n",
    "print(response.choices[0].message.content)"
   ]
  },
  {
   "cell_type": "markdown",
   "id": "3c3543de",
   "metadata": {},
   "source": [
    "With CoT"
   ]
  },
  {
   "cell_type": "code",
   "execution_count": 49,
   "id": "882382e8",
   "metadata": {},
   "outputs": [
    {
     "name": "stdout",
     "output_type": "stream",
     "text": [
      "Sure, let's break down the process step by step to determine how many earrings you have now.\n",
      "\n",
      "1. **Initially**, you bought 20 pairs of earrings.\n",
      "   - Since one pair equals 2 earrings, this means you initially have \\( 20 \\times 2 = 40 \\) earrings.\n",
      "\n",
      "2. **You gave 5 pairs to Ama**:\n",
      "   - Giving away 5 pairs means giving away \\( 5 \\times 2 = 10 \\) earrings.\n",
      "   - After giving these 10 earrings to Ama, you have \\( 40 - 10 = 30 \\) earrings left.\n",
      "\n",
      "3. **Ama bought 25 pairs of earrings**:\n",
      "   - Each pair has 2 earrings, so she bought \\( 25 \\times 2 = 50 \\) earrings.\n",
      "   \n",
      "4. **Ama gave you 3 pairs of earrings**:\n",
      "   - Receiving 3 pairs from Ama means receiving \\( 3 \\times 2 = 6 \\) earrings.\n",
      "   - Adding these 6 earrings to your current 30 earrings results in \\( 30 + 6 = 36 \\) earrings.\n",
      "\n",
      "So, after all the transactions, you have 36 earrings.\n"
     ]
    }
   ],
   "source": [
    "\n",
    "response = client.chat.completions.create(\n",
    "    model=\"gpt-4o\",\n",
    "    messages=[\n",
    "    {\"role\": \"system\", \"content\": \"You are a helpful assistant who will help the user with their queries with step by step reasoning as demonstrated in the example below\"\n",
    "    '''\n",
    "    Q.Peter has five dollars. He gets 9 dollars more from his grandfather and 15 more from his father. He bought an icecream for himself for 200 cents and gave 600 cents to his friend, John. How much money does he have now. Give me just the figure. \n",
    "    Step 1. Peter has 5 dollars. \n",
    "    Step 2. He gets 9 dollars from his grandfather and 15 from his father. \n",
    "    Step 3. This implies peter has 9+5+15, i.e. 29 dollars.\n",
    "    Step 4. 100 cents is equal to a dollar. This implies Peter spent 2 dollars in buying an ice-cream and gave 6 dollars to John. \n",
    "    Step 5. Peter has 8 dollars less than what he had previously. \n",
    "    Step 6. Finally, 29-8=21. This means Peter has 21 dollars. \n",
    "    Step 7. Answer is 21 dollars. \n",
    "    '''},\n",
    "    {\"role\": \"user\", \"content\":  \"Ama and I are going to buy earrings. I bought twenty pairs and gave 5 to Ama who also bought 25 pairs and gave me three. How many earrings do I have now ?\"}]\n",
    ")\n",
    "\n",
    "print(response.choices[0].message.content)"
   ]
  },
  {
   "cell_type": "markdown",
   "id": "7d75f8e6",
   "metadata": {},
   "source": [
    "Self Consistency "
   ]
  },
  {
   "cell_type": "code",
   "execution_count": 51,
   "id": "bb7f286a",
   "metadata": {},
   "outputs": [
    {
     "name": "stdout",
     "output_type": "stream",
     "text": [
      "Let's analyze the problem step by step and then solve it using majority vote among three independent math experts. \n",
      "\n",
      "**Expert 1's Reasoning:**\n",
      "\n",
      "1. I initially bought 20 pairs of earrings.\n",
      "   - Total earrings initially: \\( 20 \\times 2 = 40 \\)\n",
      "\n",
      "2. I gave 5 pairs to Ama:\n",
      "   - Earrings reduced: \\( 5 \\times 2 = 10 \\)\n",
      "   - Earrings remaining: \\( 40 - 10 = 30 \\)\n",
      "\n",
      "3. Ama gave me 3 pairs:\n",
      "   - Earrings added: \\( 3 \\times 2 = 6 \\)\n",
      "   - Total earrings now: \\( 30 + 6 = 36 \\)\n",
      "\n",
      "**Expert 2's Reasoning:**\n",
      "\n",
      "1. I started with 20 pairs of earrings.\n",
      "   - Total earrings initially: \\( 20 \\times 2 = 40 \\)\n",
      "\n",
      "2. I gave Ama 5 pairs:\n",
      "   - Earrings reduced: \\( 5 \\times 2 = 10 \\)\n",
      "   - Earrings remaining: \\( 40 - 10 = 30 \\)\n",
      "\n",
      "3. Ama gave me 3 pairs:\n",
      "   - Earrings added: \\( 3 \\times 2 = 6 \\)\n",
      "   - Total earrings now: \\( 30 + 6 = 36 \\)\n",
      "\n",
      "**Expert 3's Reasoning:**\n",
      "\n",
      "1. I originally bought 20 pairs.\n",
      "   - Total earrings initially: \\( 20 \\times 2 = 40 \\)\n",
      "\n",
      "2. I gave 5 pairs to Ama:\n",
      "   - Earrings reduced: \\( 5 \\times 2 = 10 \\)\n",
      "   - Earrings remaining: \\( 40 - 10 = 30 \\)\n",
      "\n",
      "3. Ama gave me 3 pairs:\n",
      "   - Earrings added: \\( 3 \\times 2 = 6 \\)\n",
      "   - Total earrings now: \\( 30 + 6 = 36 \\)\n",
      "\n",
      "All three experts calculate that I end up with the same number of earrings. \n",
      "\n",
      "**Final Answer: I have 36 earrings now.**\n"
     ]
    }
   ],
   "source": [
    "response = client.chat.completions.create(\n",
    "    model=\"gpt-4o\",\n",
    "    messages=[\n",
    "    {\"role\": \"system\", \"content\": \"Imagine there are three independent math experts who are using step by step reasoning to solve the problem differently. Use the majority vote and then give the final answer.\"},\n",
    "    {\"role\": \"user\", \"content\":  \"Ama and I are going to buy earrings. I bought twenty pairs and gave 5 to Ama who also bought 25 pairs and gave me three. How many earrings do I have now ?\" }]\n",
    ")\n",
    "\n",
    "print(response.choices[0].message.content)"
   ]
  },
  {
   "cell_type": "code",
   "execution_count": 52,
   "id": "93a0277e",
   "metadata": {},
   "outputs": [
    {
     "name": "stdout",
     "output_type": "stream",
     "text": [
      "**Facts about Cricket:**\n",
      "\n",
      "1. Cricket is a bat-and-ball game played between two teams of eleven players each.\n",
      "2. The game originated in England and is now popular worldwide, particularly in countries like India, Australia, and Pakistan.\n",
      "3. A cricket match is divided into innings where one team bats and the other bowls and fields.\n",
      "4. The main objective for the batting team is to score runs by hitting the ball and running between the wickets.\n",
      "5. Bowlers aim to dismiss the batsmen by hitting the stumps or getting the batsman caught out.\n",
      "6. The game is played on a circular or oval-shaped field with a 22-yard pitch at the center.\n",
      "7. Cricket can be played in various formats including Test matches, One Day Internationals (ODIs), and Twenty20 (T20).\n",
      "8. Test matches can last up to five days, while ODIs are limited to 50 overs per side and T20s to 20 overs per side.\n",
      "9. Key cricketing terms include ‘century’ for 100 runs, ‘duck’ for zero runs, and ‘hat-trick’ for three wickets taken by a bowler in consecutive deliveries.\n",
      "10. The International Cricket Council (ICC) governs the game globally.\n",
      "\n",
      "**Paragraph:**\n",
      "\n",
      "Cricket, a bat-and-ball game where two teams of eleven players compete, has its origins in England and has grown in popularity globally, notably in India, Australia, and Pakistan. Matches are divided into innings with one team batting to score runs and the other bowling and fielding with the aim to dismiss batsmen. Played on a circular or oval field with a central 22-yard pitch, cricket offers various formats including Test matches that can span up to five days, One Day Internationals (ODIs) limited to 50 overs per side, and the fast-paced Twenty20 (T20) with 20 overs per side. Key terminologies in the game include a ‘century,’ which denotes a score of 100 runs, a ‘duck’ for a batsman's score of zero, and a ‘hat-trick’ achieved when a bowler takes three wickets in consecutive deliveries. Governed globally by the International Cricket Council (ICC), cricket continues to fascinate and engage millions of fans around the world.\n"
     ]
    }
   ],
   "source": [
    "response = client.chat.completions.create(\n",
    "    model=\"gpt-4o\",\n",
    "    messages=[\n",
    "    {\"role\": \"system\", \"content\": \"You are an assistant which will help user solve the task rightfully.\"},\n",
    "    {\"role\": \"user\", \"content\":  \"Firstly, generate facts about the cricket game and then use them to right a cohesive paragraph in no more than 200 words.\" }]\n",
    ")\n",
    "\n",
    "print(response.choices[0].message.content)"
   ]
  },
  {
   "cell_type": "markdown",
   "id": "9823a341",
   "metadata": {},
   "source": [
    "prompt chaining "
   ]
  },
  {
   "cell_type": "code",
   "execution_count": 11,
   "id": "2e5d57c0",
   "metadata": {},
   "outputs": [
    {
     "name": "stdout",
     "output_type": "stream",
     "text": [
      "Hello! I'm sorry to hear that your laptop is experiencing issues with a blue screen. Let's see how we can help.\n",
      "\n",
      "Your problem seems to be related to a blue screen error on your laptop.\n",
      "\n",
      "Here are three potential solutions you can try:\n",
      "\n",
      "1. **Restart in Safe Mode:**\n",
      "   - Restart your laptop and press the F8 key (or the key specific to your laptop model) before the Windows logo appears.\n",
      "   - Select \"Safe Mode\" and see if your laptop starts up without showing the blue screen.\n",
      "   - If it does, you can troubleshoot further from there, such as running antivirus software or checking for driver issues.\n",
      "\n",
      "2. **System Restore:**\n",
      "   - Restart your laptop and press the F8 key again to go to the Advanced Boot Options menu.\n",
      "   - Choose \"Repair Your Computer\" and then \"System Restore.\"\n",
      "   - Select a restore point from a date when your laptop was working fine and follow the on-screen instructions to complete the restore process.\n",
      "\n",
      "3. **Check for Hardware Issues:**\n",
      "   - Ensure that all external devices (USB drives, printers, etc.) are disconnected and see if the problem persists.\n",
      "   - Open the laptop to check if the RAM and hard drive are properly seated. Sometimes, reseating these components can solve the problem.\n",
      "   - If you're not comfortable doing this yourself, consider taking your laptop to a professional for a hardware diagnostic.\n",
      "\n",
      "Please give these solutions a try and let us know if any of them resolve the issue. We would greatly appreciate your feedback to improve our support services.\n",
      "\n",
      "Thank you for reaching out, and we hope your laptop issue gets resolved soon!\n"
     ]
    }
   ],
   "source": [
    "response = client.chat.completions.create(\n",
    "    model=\"gpt-4o\",\n",
    "    messages=[\n",
    "    {\"role\": \"system\", \"content\": \"You are a customer support assistant. Follow the instructions listed below and apply the instructions on user query.\"\n",
    "                                '''\n",
    "                                Instruction 1: Greet the user. \n",
    "                                '''\n",
    "                                '''\n",
    "                                Instruction 2: Extract the problem from user query. \n",
    "                                '''\n",
    "                                '''\n",
    "                                Instruction 3: Offer three distinct solutions to the query extracted. \n",
    "                                '''\n",
    "                                '''\n",
    "                                Instruction 4: Ask user to submit feedback. \n",
    "                                '''\n",
    "                                '''\n",
    "                                Instruction 5: Thank the user!!  \n",
    "                                '''\n",
    "    },\n",
    "        \n",
    "    {\"role\": \"user\", \"content\": 'Hi, my laptop is not working. I am getting a blue screen.' }]\n",
    ")\n",
    "\n",
    "print(response.choices[0].message.content)"
   ]
  },
  {
   "cell_type": "code",
   "execution_count": 15,
   "id": "88251b6f",
   "metadata": {},
   "outputs": [
    {
     "name": "stdout",
     "output_type": "stream",
     "text": [
      "Let's break down the problem step by step and solve it while ensuring all calculations are checked and agreed upon by our three independent math experts.\n",
      "\n",
      "### Step 1: Calculate my initial slippers\n",
      "**Expert 1:** I initially bought 29 pairs of slippers.\n",
      "- Since each pair has 2 slippers, 29 pairs mean \\(29 \\times 2 = 58\\) slippers.\n",
      "- So, I initially have 58 slippers.\n",
      "\n",
      "**Expert 2:** Confirming, 29 pairs translate to 58 slippers.\n",
      "- \\(29 \\times 2 = 58\\)\n",
      "\n",
      "**Expert 3:** Agreed, \\(29 \\times 2 = 58\\). I have 58 slippers initially.\n",
      "\n",
      "### Step 2: Calculate my slippers after giving 5 pairs to Ama\n",
      "**Expert 1:** I gave 5 pairs to Ama.\n",
      "- Each pair has 2 slippers, so 5 pairs mean \\(5 \\times 2 = 10\\) slippers given to Ama.\n",
      "- I now have \\(58 - 10 = 48\\) slippers.\n",
      "\n",
      "**Expert 2:** Confirming, giving away 10 slippers from 58 means \\(58 - 10 = 48\\).\n",
      "\n",
      "**Expert 3:** Agreed, \\(58 - 10 = 48\\). I have 48 slippers now.\n",
      "\n",
      "### Step 3: Calculate Ama's initial slippers\n",
      "**Expert 1:** Ama bought 25 pairs.\n",
      "- 25 pairs mean \\(25 \\times 2 = 50\\) slippers.\n",
      "- So, Ama initially has 50 slippers.\n",
      "\n",
      "**Expert 2:** Confirming, 25 pairs translate to 50 slippers.\n",
      "- \\(25 \\times 2 = 50\\)\n",
      "\n",
      "**Expert 3:** Agreed, \\(25 \\times 2 = 50\\). Ama has 50 slippers initially.\n",
      "\n",
      "### Step 4: Calculate my slippers after receiving 3 slippers from Ama\n",
      "**Expert 1:** Ama gave me 3 slippers.\n",
      "- My current count is \\(48 + 3 = 51\\) slippers.\n",
      "- So, I now have 51 slippers.\n",
      "\n",
      "**Expert 2:** Confirming, adding 3 slippers to 48 means \\(48 + 3 = 51\\).\n",
      "\n",
      "**Expert 3:** Agreed, \\(48 + 3 = 51\\). I have 51 slippers now.\n",
      "\n",
      "All experts agree on each step.\n",
      "\n",
      "### Final Answer\n",
      "I have 51 slippers now.\n"
     ]
    }
   ],
   "source": [
    "response = client.chat.completions.create(\n",
    "    model=\"gpt-4o\",\n",
    "    messages=[\n",
    "    {\"role\": \"system\", \"content\": \"Imagine there are three independent math experts who are using step by step reasoning to solve the problem differently. At each step, the three check their calculation, if anyone is wrong, they leave the discussion. Solve the user problem and give the final answer using this approach.\"},\n",
    "    {\"role\": \"user\", \"content\":  \"Ama and I are going to buy slippers. I bought twenty nine pairs and gave 5 pair to Ama who also bought 25 pairs and gave me three slippers. How many slippers do I have now ?\" }]\n",
    ")\n",
    "\n",
    "print(response.choices[0].message.content)"
   ]
  },
  {
   "cell_type": "code",
   "execution_count": null,
   "id": "bb4fc90b",
   "metadata": {},
   "outputs": [],
   "source": []
  }
 ],
 "metadata": {
  "kernelspec": {
   "display_name": "Python 3 (ipykernel)",
   "language": "python",
   "name": "python3"
  },
  "language_info": {
   "codemirror_mode": {
    "name": "ipython",
    "version": 3
   },
   "file_extension": ".py",
   "mimetype": "text/x-python",
   "name": "python",
   "nbconvert_exporter": "python",
   "pygments_lexer": "ipython3",
   "version": "3.11.3"
  }
 },
 "nbformat": 4,
 "nbformat_minor": 5
}
