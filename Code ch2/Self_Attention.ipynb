{
 "cells": [
  {
   "cell_type": "markdown",
   "id": "590f4629",
   "metadata": {},
   "source": [
    "# Self Attention "
   ]
  },
  {
   "cell_type": "markdown",
   "id": "3684b90f",
   "metadata": {},
   "source": [
    "### Import necessary libraries"
   ]
  },
  {
   "cell_type": "code",
   "execution_count": 1,
   "id": "82e8efe6",
   "metadata": {},
   "outputs": [],
   "source": [
    "import numpy as np\n",
    "import seaborn as sns"
   ]
  },
  {
   "cell_type": "markdown",
   "id": "6b14e187",
   "metadata": {},
   "source": [
    "### Softmax Function"
   ]
  },
  {
   "cell_type": "code",
   "execution_count": 2,
   "id": "bd28cb0a",
   "metadata": {},
   "outputs": [],
   "source": [
    "def softmax(x):\n",
    "    return (np.exp(x).T / np.sum(np.exp(x), axis=-1)).T"
   ]
  },
  {
   "cell_type": "markdown",
   "id": "599c2560",
   "metadata": {},
   "source": [
    "### Self Attention Function"
   ]
  },
  {
   "cell_type": "code",
   "execution_count": 3,
   "id": "45810248",
   "metadata": {},
   "outputs": [],
   "source": [
    "def self_attention(X, W_Q, W_K, W_V):\n",
    "    # Derive query, key, and value vectors by applying linear transformations \n",
    "    q = X @ W_Q\n",
    "    k = X @ W_K\n",
    "    v = X @ W_V\n",
    "    \n",
    "    # Calculate attention scores by taking dot product of Query and Key\n",
    "    dot_product = np.dot(q, k.T)\n",
    "    \n",
    "    # Get the scaling factor by taking the dimesion of key vector \n",
    "    scaling_factor = k.shape[0]\n",
    "    \n",
    "    # Find out the attention score and scale it down\n",
    "    attention_score = (q @ k.T)/np.sqrt(scaling_factor)\n",
    "    \n",
    "    # Compute attention weights by applying softmax function\n",
    "    attention_weight = softmax(attention_score)\n",
    "    \n",
    "    #Visualize the attention weights with the help of heatmap\n",
    "    ax = sns.heatmap(attention_weight, linewidth= 0.5, cmap=\"Blues\")\n",
    "    \n",
    "    # Compute final output vectors\n",
    "    output_vector = attention_weight @ v\n",
    "    \n",
    "    # Return the output vector \n",
    "    return output_vector"
   ]
  },
  {
   "cell_type": "markdown",
   "id": "34f831a7",
   "metadata": {},
   "source": [
    "### Arbitary values for our example - 'How are you'"
   ]
  },
  {
   "cell_type": "code",
   "execution_count": 4,
   "id": "f5639c8d",
   "metadata": {},
   "outputs": [],
   "source": [
    "X = np.array([\n",
    "    [0.8, -1.8, 0.6, -0.5],\n",
    "    [-1.6, 1.3, 1.9, 0.4],\n",
    "    [-0.3, 0.7, -1.4, -0.9]\n",
    "])"
   ]
  },
  {
   "cell_type": "markdown",
   "id": "cbfeeab8",
   "metadata": {},
   "source": [
    "### Assign query, key, and value vectors"
   ]
  },
  {
   "cell_type": "code",
   "execution_count": 46,
   "id": "6bd62eed",
   "metadata": {},
   "outputs": [],
   "source": [
    "# Define the weight matrices for query, key, and value \n",
    "embedding_dimension = 4\n",
    "dimension_key = 3\n",
    "dimension_value = 3\n",
    "\n",
    "# Set the random seed \n",
    "np.random.seed(11)\n",
    "\n",
    "# Generate the weight matrices for query, key, and value using random values\n",
    "W_Q = np.random.randn(embedding_dimension, dimension_key)\n",
    "W_K = np.random.randn(embedding_dimension, dimension_key)\n",
    "W_V = np.random.randn(embedding_dimension, dimension_value)\n"
   ]
  },
  {
   "cell_type": "markdown",
   "id": "70e1e3a9",
   "metadata": {},
   "source": [
    "### Calculate the Output vector and a heatmap of attention softmaxed scores"
   ]
  },
  {
   "cell_type": "code",
   "execution_count": 47,
   "id": "cb5470e2",
   "metadata": {},
   "outputs": [
    {
     "name": "stdout",
     "output_type": "stream",
     "text": [
      "Output:\n",
      " [[ 1.72830893  0.04298404  1.47559771]\n",
      " [-2.383999   -1.23785682 -2.24527617]\n",
      " [-0.45571222 -0.07401469 -0.69042453]]\n"
     ]
    },
    {
     "data": {
      "image/png": "[encoded data removed]",
      "text/plain": [
       "<Figure size 640x480 with 2 Axes>"
      ]
     },
     "metadata": {},
     "output_type": "display_data"
    }
   ],
   "source": [
    "output_vector = self_attention(X, W_Q, W_K, W_V)\n",
    "print(\"Output:\\n\", output_vector)"
   ]
  },
  {
   "cell_type": "code",
   "execution_count": null,
   "id": "4a2c7537",
   "metadata": {},
   "outputs": [],
   "source": []
  },
  {
   "cell_type": "code",
   "execution_count": null,
   "id": "b6187e15",
   "metadata": {},
   "outputs": [],
   "source": []
  }
 ],
 "metadata": {
  "kernelspec": {
   "display_name": "Python 3 (ipykernel)",
   "language": "python",
   "name": "python3"
  },
  "language_info": {
   "codemirror_mode": {
    "name": "ipython",
    "version": 3
   },
   "file_extension": ".py",
   "mimetype": "text/x-python",
   "name": "python",
   "nbconvert_exporter": "python",
   "pygments_lexer": "ipython3",
   "version": "3.11.3"
  }
 },
 "nbformat": 4,
 "nbformat_minor": 5
}
