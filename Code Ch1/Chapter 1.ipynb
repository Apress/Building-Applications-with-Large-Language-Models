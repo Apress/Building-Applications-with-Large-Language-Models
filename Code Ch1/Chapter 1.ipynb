{
 "cells": [
  {
   "cell_type": "markdown",
   "id": "6595dbbb",
   "metadata": {},
   "source": [
    "# Text Pre-Processing"
   ]
  },
  {
   "cell_type": "markdown",
   "id": "a6539485",
   "metadata": {},
   "source": [
    "#### Step 1: Import necessary libraries "
   ]
  },
  {
   "cell_type": "code",
   "execution_count": 34,
   "id": "5ec5cb44",
   "metadata": {},
   "outputs": [],
   "source": [
    "import pandas as pd  # For data manipulation and analysis\n",
    "import numpy as np  # For numerical operations\n",
    "import string # For string related operations\n",
    "import seaborn as sns  # For data visualization\n",
    "import emoji # For emoji analysis\n",
    "from nltk.corpus import wordnet\n",
    "import nltk\n",
    "from nltk.stem.snowball import SnowballStemmer\n",
    "from nltk.stem import WordNetLemmatizer  # For lemmatization of words\n",
    "from nltk.tokenize import word_tokenize  # For tokenization and n-grams generation\n",
    "from nltk.corpus import stopwords  # For stopwords\n",
    "import re  # Regular expressions for text cleaning\n",
    "import matplotlib.pyplot as plt  # For creating visualizations\n",
    "from sklearn.feature_extraction.text import CountVectorizer  # For converting text data to numerical format\n",
    "from wordcloud import WordCloud # For generating word clouds\n",
    "from nltk import pos_tag\n",
    "import contractions "
   ]
  },
  {
   "cell_type": "markdown",
   "id": "935545c8",
   "metadata": {},
   "source": [
    "#### Step 2: Load the dataset"
   ]
  },
  {
   "cell_type": "code",
   "execution_count": 2,
   "id": "87a7df1e",
   "metadata": {},
   "outputs": [
    {
     "data": {
      "text/html": [
       "<div>\n",
       "<style scoped>\n",
       "    .dataframe tbody tr th:only-of-type {\n",
       "        vertical-align: middle;\n",
       "    }\n",
       "\n",
       "    .dataframe tbody tr th {\n",
       "        vertical-align: top;\n",
       "    }\n",
       "\n",
       "    .dataframe thead th {\n",
       "        text-align: right;\n",
       "    }\n",
       "</style>\n",
       "<table border=\"1\" class=\"dataframe\">\n",
       "  <thead>\n",
       "    <tr style=\"text-align: right;\">\n",
       "      <th></th>\n",
       "      <th>review</th>\n",
       "      <th>sentiment</th>\n",
       "    </tr>\n",
       "  </thead>\n",
       "  <tbody>\n",
       "    <tr>\n",
       "      <th>0</th>\n",
       "      <td>One of the other reviewers has mentioned that ...</td>\n",
       "      <td>positive</td>\n",
       "    </tr>\n",
       "    <tr>\n",
       "      <th>1</th>\n",
       "      <td>A wonderful little production. &lt;br /&gt;&lt;br /&gt;The...</td>\n",
       "      <td>positive</td>\n",
       "    </tr>\n",
       "    <tr>\n",
       "      <th>2</th>\n",
       "      <td>I thought this was a wonderful way to spend ti...</td>\n",
       "      <td>positive</td>\n",
       "    </tr>\n",
       "    <tr>\n",
       "      <th>3</th>\n",
       "      <td>Basically there's a family where a little boy ...</td>\n",
       "      <td>negative</td>\n",
       "    </tr>\n",
       "    <tr>\n",
       "      <th>4</th>\n",
       "      <td>Petter Mattei's \"Love in the Time of Money\" is...</td>\n",
       "      <td>positive</td>\n",
       "    </tr>\n",
       "    <tr>\n",
       "      <th>5</th>\n",
       "      <td>Probably my all-time favorite movie, a story o...</td>\n",
       "      <td>positive</td>\n",
       "    </tr>\n",
       "    <tr>\n",
       "      <th>6</th>\n",
       "      <td>I sure would like to see a resurrection of a u...</td>\n",
       "      <td>positive</td>\n",
       "    </tr>\n",
       "    <tr>\n",
       "      <th>7</th>\n",
       "      <td>This show was an amazing, fresh &amp; innovative i...</td>\n",
       "      <td>negative</td>\n",
       "    </tr>\n",
       "    <tr>\n",
       "      <th>8</th>\n",
       "      <td>Encouraged by the positive comments about this...</td>\n",
       "      <td>negative</td>\n",
       "    </tr>\n",
       "    <tr>\n",
       "      <th>9</th>\n",
       "      <td>If you like original gut wrenching laughter yo...</td>\n",
       "      <td>positive</td>\n",
       "    </tr>\n",
       "  </tbody>\n",
       "</table>\n",
       "</div>"
      ],
      "text/plain": [
       "                                              review sentiment\n",
       "0  One of the other reviewers has mentioned that ...  positive\n",
       "1  A wonderful little production. <br /><br />The...  positive\n",
       "2  I thought this was a wonderful way to spend ti...  positive\n",
       "3  Basically there's a family where a little boy ...  negative\n",
       "4  Petter Mattei's \"Love in the Time of Money\" is...  positive\n",
       "5  Probably my all-time favorite movie, a story o...  positive\n",
       "6  I sure would like to see a resurrection of a u...  positive\n",
       "7  This show was an amazing, fresh & innovative i...  negative\n",
       "8  Encouraged by the positive comments about this...  negative\n",
       "9  If you like original gut wrenching laughter yo...  positive"
      ]
     },
     "execution_count": 2,
     "metadata": {},
     "output_type": "execute_result"
    }
   ],
   "source": [
    "movie_re = pd.read_csv('IMDB Dataset.csv')\n",
    "movie_re.head(10)"
   ]
  },
  {
   "cell_type": "markdown",
   "id": "bbcb6618",
   "metadata": {},
   "source": [
    "#### Step 3: Lower Case"
   ]
  },
  {
   "cell_type": "code",
   "execution_count": 3,
   "id": "0c4ed3b8",
   "metadata": {},
   "outputs": [
    {
     "data": {
      "text/html": [
       "<div>\n",
       "<style scoped>\n",
       "    .dataframe tbody tr th:only-of-type {\n",
       "        vertical-align: middle;\n",
       "    }\n",
       "\n",
       "    .dataframe tbody tr th {\n",
       "        vertical-align: top;\n",
       "    }\n",
       "\n",
       "    .dataframe thead th {\n",
       "        text-align: right;\n",
       "    }\n",
       "</style>\n",
       "<table border=\"1\" class=\"dataframe\">\n",
       "  <thead>\n",
       "    <tr style=\"text-align: right;\">\n",
       "      <th></th>\n",
       "      <th>review</th>\n",
       "      <th>sentiment</th>\n",
       "      <th>review_transformed</th>\n",
       "    </tr>\n",
       "  </thead>\n",
       "  <tbody>\n",
       "    <tr>\n",
       "      <th>0</th>\n",
       "      <td>One of the other reviewers has mentioned that ...</td>\n",
       "      <td>positive</td>\n",
       "      <td>one of the other reviewers has mentioned that ...</td>\n",
       "    </tr>\n",
       "    <tr>\n",
       "      <th>1</th>\n",
       "      <td>A wonderful little production. &lt;br /&gt;&lt;br /&gt;The...</td>\n",
       "      <td>positive</td>\n",
       "      <td>a wonderful little production. &lt;br /&gt;&lt;br /&gt;the...</td>\n",
       "    </tr>\n",
       "    <tr>\n",
       "      <th>2</th>\n",
       "      <td>I thought this was a wonderful way to spend ti...</td>\n",
       "      <td>positive</td>\n",
       "      <td>i thought this was a wonderful way to spend ti...</td>\n",
       "    </tr>\n",
       "    <tr>\n",
       "      <th>3</th>\n",
       "      <td>Basically there's a family where a little boy ...</td>\n",
       "      <td>negative</td>\n",
       "      <td>basically there's a family where a little boy ...</td>\n",
       "    </tr>\n",
       "    <tr>\n",
       "      <th>4</th>\n",
       "      <td>Petter Mattei's \"Love in the Time of Money\" is...</td>\n",
       "      <td>positive</td>\n",
       "      <td>petter mattei's \"love in the time of money\" is...</td>\n",
       "    </tr>\n",
       "  </tbody>\n",
       "</table>\n",
       "</div>"
      ],
      "text/plain": [
       "                                              review sentiment  \\\n",
       "0  One of the other reviewers has mentioned that ...  positive   \n",
       "1  A wonderful little production. <br /><br />The...  positive   \n",
       "2  I thought this was a wonderful way to spend ti...  positive   \n",
       "3  Basically there's a family where a little boy ...  negative   \n",
       "4  Petter Mattei's \"Love in the Time of Money\" is...  positive   \n",
       "\n",
       "                                  review_transformed  \n",
       "0  one of the other reviewers has mentioned that ...  \n",
       "1  a wonderful little production. <br /><br />the...  \n",
       "2  i thought this was a wonderful way to spend ti...  \n",
       "3  basically there's a family where a little boy ...  \n",
       "4  petter mattei's \"love in the time of money\" is...  "
      ]
     },
     "execution_count": 3,
     "metadata": {},
     "output_type": "execute_result"
    }
   ],
   "source": [
    "movie_re[\"review_transformed\"] = movie_re[\"review\"].str.lower()\n",
    "movie_re.head()"
   ]
  },
  {
   "cell_type": "code",
   "execution_count": 4,
   "id": "7af977c3",
   "metadata": {},
   "outputs": [
    {
     "data": {
      "text/plain": [
       "\"one of the other reviewers has mentioned that after watching just 1 oz episode you'll be hooked. they are right, as this is exactly what happened with me.<br /><br />the first thing that struck me about oz was its brutality and unflinching scenes of violence, which set in right from the word go. trust me, this is not a show for the faint hearted or timid. this show pulls no punches with regards to drugs, sex or violence. its is hardcore, in the classic use of the word.<br /><br />it is called oz as that is the nickname given to the oswald maximum security state penitentary. it focuses mainly on emerald city, an experimental section of the prison where all the cells have glass fronts and face inwards, so privacy is not high on the agenda. em city is home to many..aryans, muslims, gangstas, latinos, christians, italians, irish and more....so scuffles, death stares, dodgy dealings and shady agreements are never far away.<br /><br />i would say the main appeal of the show is due to the fact that it goes where other shows wouldn't dare. forget pretty pictures painted for mainstream audiences, forget charm, forget romance...oz doesn't mess around. the first episode i ever saw struck me as so nasty it was surreal, i couldn't say i was ready for it, but as i watched more, i developed a taste for oz, and got accustomed to the high levels of graphic violence. not just violence, but injustice (crooked guards who'll be sold out for a nickel, inmates who'll kill on order and get away with it, well mannered, middle class inmates being turned into prison bitches due to their lack of street skills or prison experience) watching oz, you may become comfortable with what is uncomfortable viewing....thats if you can get in touch with your darker side.\""
      ]
     },
     "execution_count": 4,
     "metadata": {},
     "output_type": "execute_result"
    }
   ],
   "source": [
    "movie_re[\"review_transformed\"][0]"
   ]
  },
  {
   "cell_type": "markdown",
   "id": "b0ff9e3e",
   "metadata": {},
   "source": [
    "#### Step 4: URL Removal"
   ]
  },
  {
   "cell_type": "code",
   "execution_count": 5,
   "id": "8aaad7be",
   "metadata": {},
   "outputs": [],
   "source": [
    "pattern = r'(https://\\S+|www\\.\\S+)' \n",
    "movie_re['urls'] = movie_re['review_transformed'].str.extract(pattern)\n",
    "movie_re['review_transformed']=movie_re['review_transformed'].str.replace(pattern, '', regex=True)"
   ]
  },
  {
   "cell_type": "code",
   "execution_count": 6,
   "id": "9e88ac02",
   "metadata": {},
   "outputs": [
    {
     "data": {
      "text/plain": [
       "array([nan, 'www.cei.org.', 'www.invocus.net)', 'www.softfordigging.com',\n",
       "       'www.petitiononline.com/19784444/petition.html',\n",
       "       'www.comingsoon.net/films.php?id=36310', 'www.residenthazard.com)',\n",
       "       'www.zonadvd.com', 'www.nixflix.com', 'www.abc.net.au/chaser.',\n",
       "       'www.lovetrapmovie.com', 'www.thepetitionsite.com',\n",
       "       'www.petitiononline.com/gh1215/petition.html',\n",
       "       'www.johntopping.com/harvey%20perr/war%20widow/war_widow.html',\n",
       "       'www.mediasickness.com', 'www.imdb.com/title/tt0073891/',\n",
       "       'www.imdb.com/title/tt0363163/<br', 'www.poffysmoviemania.com)',\n",
       "       'www.gutenberg.org/ebooks/18137', 'www.reel13.org)',\n",
       "       'www.cinemablend.com/feature.php?id=209',\n",
       "       'www.youtube.com/watch?v=rmb4-hyet_y',\n",
       "       'www.dvdbeaver.com/film/dvdcompare2/kingofmasks.htm<br',\n",
       "       'www.helium.com/items/1433421-sydney-white-review',\n",
       "       'www.imdb.com/title/tt0962736/awards',\n",
       "       'www.screendaily.com/screendailyarticle.aspx?intstoryid=39811',\n",
       "       'www.mikeandvicki.com', 'www.youtube.com/watch?v=kk0gtfuk98u).',\n",
       "       'www.bbc.co.uk/', 'www.thehollywoodnews.com,',\n",
       "       'www.fosteronfilm.com/phil/forgiving.htm', 'www.sublymonal.com)',\n",
       "       'www.petitiononline.com/6600f/petition.html',\n",
       "       'www.obsessedwithfilm.com/', 'www.imdb.com/title/tt0077713/',\n",
       "       'www.fwfr.com)', 'www.horroryearbook.com',\n",
       "       'www.thenewamerican.com/tna/1996/vo12no18/vo12no18_mccarthy.htm',\n",
       "       'www.eloquentbooks.com/lingeringpoets.html',\n",
       "       'www.imdb.com/title/tt0425350/#comment', 'www.loveearth.com)<br',\n",
       "       'www.i', 'www.geocities.com/paul_johnr',\n",
       "       'www.mjyoung.net/time/monkeys.html.',\n",
       "       'www.imdb.com/title/tt0077247/.', 'www.r1313.info', 'www.wazi.com',\n",
       "       'www.archive.org/details/the_mascot_complete<br',\n",
       "       'www.taz.de/pt/2006/09/02/a0013.1/textdruck',\n",
       "       'www.imdb.com/title/tt0098238/', 'www.residenthazard.com',\n",
       "       \"www...that's\", 'www.myspace.com/neizvestnostlab', 'www.imdb.com',\n",
       "       'www.happierabroad.com/photojournals.htm<br',\n",
       "       'www.mysteriesofcanada.com/nwt/madtrapper.htm',\n",
       "       'www.hbo.com/apps/schedule/', 'www.imdb.com/title/tt1337580/',\n",
       "       'www.moviemusereviews.com', 'www.joseiturbi.com,',\n",
       "       'www.cherryred.co.uk/el/artists/pufnstuf.htm', 'www.collider.com',\n",
       "       'www.gitwisters.com/', 'www.imdb.com/title/tt0120714/',\n",
       "       'www.goethe.de/ins/au/lp/prj/ff07/enindex.htm',\n",
       "       'www.tccandler.com', 'www.angelfire.com/ny5/jbc33/',\n",
       "       'www.lifeofacristian.piczo.com', 'www.theflickguy.org)',\n",
       "       'www.imdb.com/title/tt0080120/', 'www.fightrunner.co.uk',\n",
       "       'www.<br', 'www.ernestfunclub.com',\n",
       "       'www.replaydvd.co.uk/joking_apart_s1.htm',\n",
       "       'www.amargosaoperahouse.com/',\n",
       "       'www.coax.net/people/lwf/bkcwboy2.htm', 'www.bleed-me-dry.com),',\n",
       "       'www.weatherpaparazzi.com/flooding.asp',\n",
       "       'www.lanuitrwandaise.net)<br', 'www.imdb.com/name/nm0281661/',\n",
       "       'www.myspace.com/62229249.', 'www.afrovideo.org,', 'www....yes,',\n",
       "       'www.systm.org.', 'www.peterkurth.com', 'www.1tv.ru',\n",
       "       'www.biz-community.com/article/196/97/5223.html',\n",
       "       'www.spatulamadness.com', 'www.nvogel.com/film/film.html',\n",
       "       'www.imdb.com/title/tt0408790/usercomments-578<br',\n",
       "       'www.youtube.com/watch?v=2-w7evbears', 'www.mybluray.com.au',\n",
       "       'www.archambault.ca', 'www.carlylegroup.com',\n",
       "       'www.thefilmstage.com', 'www.kennyhotz.com',\n",
       "       'www.intuitor.com/moviephysics/bleep.html',\n",
       "       'www.theindependent.com/twisters/', 'www.moviepulse.net',\n",
       "       'www.imdb.com/title/tt0060164/<br',\n",
       "       'www.imdb.com/title/tt0115940/', 'www.youtube.com',\n",
       "       'www.razzies.com/history/05nomactr.asp)',\n",
       "       'www.imdb.com/title/tt0207805)', 'www...',\n",
       "       'www.playitforwardoz.com/boyce.html',\n",
       "       'www.imperialflags.blogspot.com', 'www.thestuffblag.com',\n",
       "       'www.archive.org/details/thief-in-the-night<br',\n",
       "       'www.howdoilooknyc.org.',\n",
       "       'www.screenonline.org.uk/tv/id/527213/index.html',\n",
       "       'www.freedomofmind.com/resourcecenter/groups/t/tm/dissenter.htm)<br',\n",
       "       'www.peterhenderson.com.au', 'www.horrormoviejournal.blogspot.com',\n",
       "       'www.answers.com',\n",
       "       'www.macrophile.com/~arilin/archive/metamorphosis-day'],\n",
       "      dtype=object)"
      ]
     },
     "execution_count": 6,
     "metadata": {},
     "output_type": "execute_result"
    }
   ],
   "source": [
    "movie_re['urls'].unique()"
   ]
  },
  {
   "cell_type": "code",
   "execution_count": 7,
   "id": "ccc7d15b",
   "metadata": {},
   "outputs": [
    {
     "data": {
      "text/plain": [
       "\"one of the other reviewers has mentioned that after watching just 1 oz episode you'll be hooked. they are right, as this is exactly what happened with me.<br /><br />the first thing that struck me about oz was its brutality and unflinching scenes of violence, which set in right from the word go. trust me, this is not a show for the faint hearted or timid. this show pulls no punches with regards to drugs, sex or violence. its is hardcore, in the classic use of the word.<br /><br />it is called oz as that is the nickname given to the oswald maximum security state penitentary. it focuses mainly on emerald city, an experimental section of the prison where all the cells have glass fronts and face inwards, so privacy is not high on the agenda. em city is home to many..aryans, muslims, gangstas, latinos, christians, italians, irish and more....so scuffles, death stares, dodgy dealings and shady agreements are never far away.<br /><br />i would say the main appeal of the show is due to the fact that it goes where other shows wouldn't dare. forget pretty pictures painted for mainstream audiences, forget charm, forget romance...oz doesn't mess around. the first episode i ever saw struck me as so nasty it was surreal, i couldn't say i was ready for it, but as i watched more, i developed a taste for oz, and got accustomed to the high levels of graphic violence. not just violence, but injustice (crooked guards who'll be sold out for a nickel, inmates who'll kill on order and get away with it, well mannered, middle class inmates being turned into prison bitches due to their lack of street skills or prison experience) watching oz, you may become comfortable with what is uncomfortable viewing....thats if you can get in touch with your darker side.\""
      ]
     },
     "execution_count": 7,
     "metadata": {},
     "output_type": "execute_result"
    }
   ],
   "source": [
    "movie_re['review_transformed'][0]"
   ]
  },
  {
   "cell_type": "markdown",
   "id": "3fddb190",
   "metadata": {},
   "source": [
    "#### Step 5: HTML Tags"
   ]
  },
  {
   "cell_type": "code",
   "execution_count": 8,
   "id": "fcc02c53",
   "metadata": {},
   "outputs": [],
   "source": [
    "html_pattern = re.compile(r'<.*?>')\n",
    "movie_re['review_transformed']=movie_re['review_transformed'].str.replace(html_pattern, ' ', regex=True)"
   ]
  },
  {
   "cell_type": "code",
   "execution_count": 9,
   "id": "79bd89d5",
   "metadata": {},
   "outputs": [
    {
     "data": {
      "text/plain": [
       "\"one of the other reviewers has mentioned that after watching just 1 oz episode you'll be hooked. they are right, as this is exactly what happened with me.  the first thing that struck me about oz was its brutality and unflinching scenes of violence, which set in right from the word go. trust me, this is not a show for the faint hearted or timid. this show pulls no punches with regards to drugs, sex or violence. its is hardcore, in the classic use of the word.  it is called oz as that is the nickname given to the oswald maximum security state penitentary. it focuses mainly on emerald city, an experimental section of the prison where all the cells have glass fronts and face inwards, so privacy is not high on the agenda. em city is home to many..aryans, muslims, gangstas, latinos, christians, italians, irish and more....so scuffles, death stares, dodgy dealings and shady agreements are never far away.  i would say the main appeal of the show is due to the fact that it goes where other shows wouldn't dare. forget pretty pictures painted for mainstream audiences, forget charm, forget romance...oz doesn't mess around. the first episode i ever saw struck me as so nasty it was surreal, i couldn't say i was ready for it, but as i watched more, i developed a taste for oz, and got accustomed to the high levels of graphic violence. not just violence, but injustice (crooked guards who'll be sold out for a nickel, inmates who'll kill on order and get away with it, well mannered, middle class inmates being turned into prison bitches due to their lack of street skills or prison experience) watching oz, you may become comfortable with what is uncomfortable viewing....thats if you can get in touch with your darker side.\""
      ]
     },
     "execution_count": 9,
     "metadata": {},
     "output_type": "execute_result"
    }
   ],
   "source": [
    "movie_re['review_transformed'][0]"
   ]
  },
  {
   "cell_type": "markdown",
   "id": "9db510b0",
   "metadata": {},
   "source": [
    "#### Step 6:  Contractions "
   ]
  },
  {
   "cell_type": "code",
   "execution_count": 10,
   "id": "4a2c631d",
   "metadata": {},
   "outputs": [],
   "source": [
    "movie_re[\"review_transformed\"]=movie_re['review_transformed'].apply(lambda x: ' '.join([contractions.fix(word) for word in x.split()]))\n"
   ]
  },
  {
   "cell_type": "code",
   "execution_count": 11,
   "id": "29156f4b",
   "metadata": {},
   "outputs": [
    {
     "data": {
      "text/plain": [
       "'one of the other reviewers has mentioned that after watching just 1 oz episode you will be hooked. they are right, as this is exactly what happened with me. the first thing that struck me about oz was its brutality and unflinching scenes of violence, which set in right from the word go. trust me, this is not a show for the faint hearted or timid. this show pulls no punches with regards to drugs, sex or violence. its is hardcore, in the classic use of the word. it is called oz as that is the nickname given to the oswald maximum security state penitentary. it focuses mainly on emerald city, an experimental section of the prison where all the cells have glass fronts and face inwards, so privacy is not high on the agenda. them city is home to many..aryans, muslims, gangstas, latinos, christians, italians, irish and more....so scuffles, death stares, dodgy dealings and shady agreements are never far away. i would say the main appeal of the show is due to the fact that it goes where other shows would not dare. forget pretty pictures painted for mainstream audiences, forget charm, forget romance...oz does not mess around. the first episode i ever saw struck me as so nasty it was surreal, i could not say i was ready for it, but as i watched more, i developed a taste for oz, and got accustomed to the high levels of graphic violence. not just violence, but injustice (crooked guards who will be sold out for a nickel, inmates who will kill on order and get away with it, well mannered, middle class inmates being turned into prison bitches due to their lack of street skills or prison experience) watching oz, you may become comfortable with what is uncomfortable viewing....that is if you can get in touch with your darker side.'"
      ]
     },
     "execution_count": 11,
     "metadata": {},
     "output_type": "execute_result"
    }
   ],
   "source": [
    "movie_re[\"review_transformed\"][0]"
   ]
  },
  {
   "cell_type": "markdown",
   "id": "5e925e6d",
   "metadata": {},
   "source": [
    "#### Step 7:  Punctuation Marks\n"
   ]
  },
  {
   "cell_type": "code",
   "execution_count": 12,
   "id": "f24f5d10",
   "metadata": {},
   "outputs": [
    {
     "data": {
      "text/html": [
       "<div>\n",
       "<style scoped>\n",
       "    .dataframe tbody tr th:only-of-type {\n",
       "        vertical-align: middle;\n",
       "    }\n",
       "\n",
       "    .dataframe tbody tr th {\n",
       "        vertical-align: top;\n",
       "    }\n",
       "\n",
       "    .dataframe thead th {\n",
       "        text-align: right;\n",
       "    }\n",
       "</style>\n",
       "<table border=\"1\" class=\"dataframe\">\n",
       "  <thead>\n",
       "    <tr style=\"text-align: right;\">\n",
       "      <th></th>\n",
       "      <th>review</th>\n",
       "      <th>sentiment</th>\n",
       "      <th>review_transformed</th>\n",
       "      <th>urls</th>\n",
       "    </tr>\n",
       "  </thead>\n",
       "  <tbody>\n",
       "    <tr>\n",
       "      <th>0</th>\n",
       "      <td>One of the other reviewers has mentioned that ...</td>\n",
       "      <td>positive</td>\n",
       "      <td>one of the other reviewers has mentioned that ...</td>\n",
       "      <td>NaN</td>\n",
       "    </tr>\n",
       "    <tr>\n",
       "      <th>1</th>\n",
       "      <td>A wonderful little production. &lt;br /&gt;&lt;br /&gt;The...</td>\n",
       "      <td>positive</td>\n",
       "      <td>a wonderful little production the filming tech...</td>\n",
       "      <td>NaN</td>\n",
       "    </tr>\n",
       "    <tr>\n",
       "      <th>2</th>\n",
       "      <td>I thought this was a wonderful way to spend ti...</td>\n",
       "      <td>positive</td>\n",
       "      <td>i thought this was a wonderful way to spend ti...</td>\n",
       "      <td>NaN</td>\n",
       "    </tr>\n",
       "    <tr>\n",
       "      <th>3</th>\n",
       "      <td>Basically there's a family where a little boy ...</td>\n",
       "      <td>negative</td>\n",
       "      <td>basically there is a family where a little boy...</td>\n",
       "      <td>NaN</td>\n",
       "    </tr>\n",
       "    <tr>\n",
       "      <th>4</th>\n",
       "      <td>Petter Mattei's \"Love in the Time of Money\" is...</td>\n",
       "      <td>positive</td>\n",
       "      <td>petter matteis love in the time of money is a ...</td>\n",
       "      <td>NaN</td>\n",
       "    </tr>\n",
       "  </tbody>\n",
       "</table>\n",
       "</div>"
      ],
      "text/plain": [
       "                                              review sentiment  \\\n",
       "0  One of the other reviewers has mentioned that ...  positive   \n",
       "1  A wonderful little production. <br /><br />The...  positive   \n",
       "2  I thought this was a wonderful way to spend ti...  positive   \n",
       "3  Basically there's a family where a little boy ...  negative   \n",
       "4  Petter Mattei's \"Love in the Time of Money\" is...  positive   \n",
       "\n",
       "                                  review_transformed urls  \n",
       "0  one of the other reviewers has mentioned that ...  NaN  \n",
       "1  a wonderful little production the filming tech...  NaN  \n",
       "2  i thought this was a wonderful way to spend ti...  NaN  \n",
       "3  basically there is a family where a little boy...  NaN  \n",
       "4  petter matteis love in the time of money is a ...  NaN  "
      ]
     },
     "execution_count": 12,
     "metadata": {},
     "output_type": "execute_result"
    }
   ],
   "source": [
    "movie_re['review_transformed'] = movie_re['review_transformed'].str.translate(str.maketrans(' ',' ',string.punctuation))\n",
    "movie_re.head()"
   ]
  },
  {
   "cell_type": "code",
   "execution_count": 13,
   "id": "a91e01cb",
   "metadata": {},
   "outputs": [
    {
     "data": {
      "text/plain": [
       "'one of the other reviewers has mentioned that after watching just 1 oz episode you will be hooked they are right as this is exactly what happened with me the first thing that struck me about oz was its brutality and unflinching scenes of violence which set in right from the word go trust me this is not a show for the faint hearted or timid this show pulls no punches with regards to drugs sex or violence its is hardcore in the classic use of the word it is called oz as that is the nickname given to the oswald maximum security state penitentary it focuses mainly on emerald city an experimental section of the prison where all the cells have glass fronts and face inwards so privacy is not high on the agenda them city is home to manyaryans muslims gangstas latinos christians italians irish and moreso scuffles death stares dodgy dealings and shady agreements are never far away i would say the main appeal of the show is due to the fact that it goes where other shows would not dare forget pretty pictures painted for mainstream audiences forget charm forget romanceoz does not mess around the first episode i ever saw struck me as so nasty it was surreal i could not say i was ready for it but as i watched more i developed a taste for oz and got accustomed to the high levels of graphic violence not just violence but injustice crooked guards who will be sold out for a nickel inmates who will kill on order and get away with it well mannered middle class inmates being turned into prison bitches due to their lack of street skills or prison experience watching oz you may become comfortable with what is uncomfortable viewingthat is if you can get in touch with your darker side'"
      ]
     },
     "execution_count": 13,
     "metadata": {},
     "output_type": "execute_result"
    }
   ],
   "source": [
    "movie_re[\"review_transformed\"][0]"
   ]
  },
  {
   "cell_type": "markdown",
   "id": "de131194",
   "metadata": {},
   "source": [
    "#### Step 8: Stop Words"
   ]
  },
  {
   "cell_type": "code",
   "execution_count": 14,
   "id": "b85aadb8",
   "metadata": {},
   "outputs": [
    {
     "name": "stdout",
     "output_type": "stream",
     "text": [
      "['i', 'me', 'my', 'myself', 'we', 'our', 'ours', 'ourselves', 'you', \"you're\", \"you've\", \"you'll\", \"you'd\", 'your', 'yours', 'yourself', 'yourselves', 'he', 'him', 'his', 'himself', 'she', \"she's\", 'her', 'hers', 'herself', 'it', \"it's\", 'its', 'itself', 'they', 'them', 'their', 'theirs', 'themselves', 'what', 'which', 'who', 'whom', 'this', 'that', \"that'll\", 'these', 'those', 'am', 'is', 'are', 'was', 'were', 'be', 'been', 'being', 'have', 'has', 'had', 'having', 'do', 'does', 'did', 'doing', 'a', 'an', 'the', 'and', 'but', 'if', 'or', 'because', 'as', 'until', 'while', 'of', 'at', 'by', 'for', 'with', 'about', 'against', 'between', 'into', 'through', 'during', 'before', 'after', 'above', 'below', 'to', 'from', 'up', 'down', 'in', 'out', 'on', 'off', 'over', 'under', 'again', 'further', 'then', 'once', 'here', 'there', 'when', 'where', 'why', 'how', 'all', 'any', 'both', 'each', 'few', 'more', 'most', 'other', 'some', 'such', 'no', 'nor', 'not', 'only', 'own', 'same', 'so', 'than', 'too', 'very', 's', 't', 'can', 'will', 'just', 'don', \"don't\", 'should', \"should've\", 'now', 'd', 'll', 'm', 'o', 're', 've', 'y', 'ain', 'aren', \"aren't\", 'couldn', \"couldn't\", 'didn', \"didn't\", 'doesn', \"doesn't\", 'hadn', \"hadn't\", 'hasn', \"hasn't\", 'haven', \"haven't\", 'isn', \"isn't\", 'ma', 'mightn', \"mightn't\", 'mustn', \"mustn't\", 'needn', \"needn't\", 'shan', \"shan't\", 'shouldn', \"shouldn't\", 'wasn', \"wasn't\", 'weren', \"weren't\", 'won', \"won't\", 'wouldn', \"wouldn't\"]\n"
     ]
    }
   ],
   "source": [
    "stop = stopwords.words('english')\n",
    "print(stop)"
   ]
  },
  {
   "cell_type": "code",
   "execution_count": 15,
   "id": "ed45b535",
   "metadata": {},
   "outputs": [],
   "source": [
    "movie_re[\"review_transformed\"] = movie_re['review_transformed'].apply(lambda x: ' '.join([word for word in x.split() if word not in (stop)]))"
   ]
  },
  {
   "cell_type": "code",
   "execution_count": 16,
   "id": "3131c7c3",
   "metadata": {},
   "outputs": [
    {
     "data": {
      "text/plain": [
       "'one reviewers mentioned watching 1 oz episode hooked right exactly happened first thing struck oz brutality unflinching scenes violence set right word go trust show faint hearted timid show pulls punches regards drugs sex violence hardcore classic use word called oz nickname given oswald maximum security state penitentary focuses mainly emerald city experimental section prison cells glass fronts face inwards privacy high agenda city home manyaryans muslims gangstas latinos christians italians irish moreso scuffles death stares dodgy dealings shady agreements never far away would say main appeal show due fact goes shows would dare forget pretty pictures painted mainstream audiences forget charm forget romanceoz mess around first episode ever saw struck nasty surreal could say ready watched developed taste oz got accustomed high levels graphic violence violence injustice crooked guards sold nickel inmates kill order get away well mannered middle class inmates turned prison bitches due lack street skills prison experience watching oz may become comfortable uncomfortable viewingthat get touch darker side'"
      ]
     },
     "execution_count": 16,
     "metadata": {},
     "output_type": "execute_result"
    }
   ],
   "source": [
    "movie_re[\"review_transformed\"][0]"
   ]
  },
  {
   "cell_type": "markdown",
   "id": "2a3bc191",
   "metadata": {},
   "source": [
    "#### Step 9: Numbers"
   ]
  },
  {
   "cell_type": "code",
   "execution_count": 17,
   "id": "7da1603c",
   "metadata": {},
   "outputs": [
    {
     "name": "stderr",
     "output_type": "stream",
     "text": [
      "/var/folders/4v/2_61_pls78v66v6bn_9bxhym0000gn/T/ipykernel_10878/2009810983.py:1: FutureWarning: The default value of regex will change from True to False in a future version.\n",
      "  movie_re['review_transformed'] = movie_re['review_transformed'].str.replace('\\d+', '')\n"
     ]
    }
   ],
   "source": [
    "movie_re['review_transformed'] = movie_re['review_transformed'].str.replace('\\d+', '')"
   ]
  },
  {
   "cell_type": "code",
   "execution_count": 18,
   "id": "8251bb8e",
   "metadata": {},
   "outputs": [
    {
     "data": {
      "text/plain": [
       "'one reviewers mentioned watching  oz episode hooked right exactly happened first thing struck oz brutality unflinching scenes violence set right word go trust show faint hearted timid show pulls punches regards drugs sex violence hardcore classic use word called oz nickname given oswald maximum security state penitentary focuses mainly emerald city experimental section prison cells glass fronts face inwards privacy high agenda city home manyaryans muslims gangstas latinos christians italians irish moreso scuffles death stares dodgy dealings shady agreements never far away would say main appeal show due fact goes shows would dare forget pretty pictures painted mainstream audiences forget charm forget romanceoz mess around first episode ever saw struck nasty surreal could say ready watched developed taste oz got accustomed high levels graphic violence violence injustice crooked guards sold nickel inmates kill order get away well mannered middle class inmates turned prison bitches due lack street skills prison experience watching oz may become comfortable uncomfortable viewingthat get touch darker side'"
      ]
     },
     "execution_count": 18,
     "metadata": {},
     "output_type": "execute_result"
    }
   ],
   "source": [
    "movie_re.review_transformed[0]"
   ]
  },
  {
   "cell_type": "markdown",
   "id": "21fed082",
   "metadata": {},
   "source": [
    "#### Step 10: Emoji "
   ]
  },
  {
   "cell_type": "code",
   "execution_count": 19,
   "id": "afeb35da",
   "metadata": {},
   "outputs": [],
   "source": [
    "movie_re['emojis'] = movie_re['review_transformed'].apply(lambda row: ''.join(c for c in row if c in emoji.EMOJI_DATA))"
   ]
  },
  {
   "cell_type": "code",
   "execution_count": 20,
   "id": "28c58cb0",
   "metadata": {},
   "outputs": [
    {
     "data": {
      "text/html": [
       "<div>\n",
       "<style scoped>\n",
       "    .dataframe tbody tr th:only-of-type {\n",
       "        vertical-align: middle;\n",
       "    }\n",
       "\n",
       "    .dataframe tbody tr th {\n",
       "        vertical-align: top;\n",
       "    }\n",
       "\n",
       "    .dataframe thead th {\n",
       "        text-align: right;\n",
       "    }\n",
       "</style>\n",
       "<table border=\"1\" class=\"dataframe\">\n",
       "  <thead>\n",
       "    <tr style=\"text-align: right;\">\n",
       "      <th></th>\n",
       "      <th>review</th>\n",
       "      <th>sentiment</th>\n",
       "      <th>review_transformed</th>\n",
       "      <th>urls</th>\n",
       "      <th>emojis</th>\n",
       "    </tr>\n",
       "  </thead>\n",
       "  <tbody>\n",
       "    <tr>\n",
       "      <th>13735</th>\n",
       "      <td>I checked this movie out based on a favorable ...</td>\n",
       "      <td>negative</td>\n",
       "      <td>checked movie based favorable review page slow...</td>\n",
       "      <td>NaN</td>\n",
       "      <td>®</td>\n",
       "    </tr>\n",
       "    <tr>\n",
       "      <th>21141</th>\n",
       "      <td>\"In April 1946, the University of Chicago agre...</td>\n",
       "      <td>positive</td>\n",
       "      <td>april  university chicago agreed operate argon...</td>\n",
       "      <td>NaN</td>\n",
       "      <td>®</td>\n",
       "    </tr>\n",
       "    <tr>\n",
       "      <th>22728</th>\n",
       "      <td>That's the sound of Stan and Ollie spinning in...</td>\n",
       "      <td>negative</td>\n",
       "      <td>sound stan ollie spinning graves bother listin...</td>\n",
       "      <td>NaN</td>\n",
       "      <td>®</td>\n",
       "    </tr>\n",
       "    <tr>\n",
       "      <th>36507</th>\n",
       "      <td>Klatret©ªsen(Catch That Girl) is really great ...</td>\n",
       "      <td>positive</td>\n",
       "      <td>klatret©ªsencatch girl really great movie happ...</td>\n",
       "      <td>NaN</td>\n",
       "      <td>©</td>\n",
       "    </tr>\n",
       "    <tr>\n",
       "      <th>46515</th>\n",
       "      <td>I chuckled a few times during this movie. I la...</td>\n",
       "      <td>negative</td>\n",
       "      <td>chuckled times movie laughed loud notarizing m...</td>\n",
       "      <td>NaN</td>\n",
       "      <td>®</td>\n",
       "    </tr>\n",
       "  </tbody>\n",
       "</table>\n",
       "</div>"
      ],
      "text/plain": [
       "                                                  review sentiment  \\\n",
       "13735  I checked this movie out based on a favorable ...  negative   \n",
       "21141  \"In April 1946, the University of Chicago agre...  positive   \n",
       "22728  That's the sound of Stan and Ollie spinning in...  negative   \n",
       "36507  Klatret©ªsen(Catch That Girl) is really great ...  positive   \n",
       "46515  I chuckled a few times during this movie. I la...  negative   \n",
       "\n",
       "                                      review_transformed urls emojis  \n",
       "13735  checked movie based favorable review page slow...  NaN      ®  \n",
       "21141  april  university chicago agreed operate argon...  NaN      ®  \n",
       "22728  sound stan ollie spinning graves bother listin...  NaN      ®  \n",
       "36507  klatret©ªsencatch girl really great movie happ...  NaN      ©  \n",
       "46515  chuckled times movie laughed loud notarizing m...  NaN      ®  "
      ]
     },
     "execution_count": 20,
     "metadata": {},
     "output_type": "execute_result"
    }
   ],
   "source": [
    "movie_re[movie_re['emojis']!='']"
   ]
  },
  {
   "cell_type": "markdown",
   "id": "71348612",
   "metadata": {},
   "source": [
    "# Data Transformation"
   ]
  },
  {
   "cell_type": "markdown",
   "id": "32eb326c",
   "metadata": {},
   "source": [
    "#### Tokenization"
   ]
  },
  {
   "cell_type": "code",
   "execution_count": 21,
   "id": "18ff0280",
   "metadata": {},
   "outputs": [],
   "source": [
    "movie_re['tokenized'] = movie_re['review_transformed'].apply(lambda x: word_tokenize(x))"
   ]
  },
  {
   "cell_type": "code",
   "execution_count": 22,
   "id": "95638d85",
   "metadata": {},
   "outputs": [
    {
     "data": {
      "text/plain": [
       "0        [one, reviewers, mentioned, watching, oz, epis...\n",
       "1        [wonderful, little, production, filming, techn...\n",
       "2        [thought, wonderful, way, spend, time, hot, su...\n",
       "3        [basically, family, little, boy, jake, thinks,...\n",
       "4        [petter, matteis, love, time, money, visually,...\n",
       "                               ...                        \n",
       "49995    [thought, movie, right, good, job, creative, o...\n",
       "49996    [bad, plot, bad, dialogue, bad, acting, idioti...\n",
       "49997    [catholic, taught, parochial, elementary, scho...\n",
       "49998    [going, disagree, previous, comment, side, mal...\n",
       "49999    [one, expects, star, trek, movies, high, art, ...\n",
       "Name: tokenized, Length: 50000, dtype: object"
      ]
     },
     "execution_count": 22,
     "metadata": {},
     "output_type": "execute_result"
    }
   ],
   "source": [
    "movie_re['tokenized']"
   ]
  },
  {
   "cell_type": "markdown",
   "id": "d035d694",
   "metadata": {},
   "source": [
    "#### Lemmatization"
   ]
  },
  {
   "cell_type": "code",
   "execution_count": 28,
   "id": "661698b4",
   "metadata": {},
   "outputs": [],
   "source": [
    "def get_pos_tag(word):\n",
    "    pos_tag = nltk.pos_tag([word])[0][1][0].upper()\n",
    "    tags_dict = {\n",
    "        \"J\": wordnet.ADJ,\n",
    "        \"N\": wordnet.NOUN,\n",
    "        \"V\": wordnet.VERB,\n",
    "        \"R\": wordnet.ADV\n",
    "    }\n",
    "\n",
    "    return tags_dict.get(pos_tag)\n",
    "\n",
    "def lemmatize(text):\n",
    "    lemmatizer = WordNetLemmatizer()\n",
    "    lemmatized_tokens = []\n",
    "    tokens = nltk.word_tokenize(text)\n",
    "    for token in tokens:\n",
    "        token_tag = get_pos_tag(token)\n",
    "        if token_tag is None:\n",
    "            lemmatized_tokens.append(token)\n",
    "        else:\n",
    "            lemma = lemmatizer.lemmatize(token, token_tag)\n",
    "            lemmatized_tokens.append(lemma)\n",
    "    return ' '.join(lemmatized_tokens)"
   ]
  },
  {
   "cell_type": "code",
   "execution_count": 29,
   "id": "24d73703",
   "metadata": {},
   "outputs": [],
   "source": [
    "movie_re['lemmatized_tokens'] = movie_re['review_transformed'].apply(lemmatize)"
   ]
  },
  {
   "cell_type": "code",
   "execution_count": 31,
   "id": "4857a3d3",
   "metadata": {},
   "outputs": [
    {
     "data": {
      "text/plain": [
       "'one reviewer mention watch oz episode hooked right exactly happen first thing struck oz brutality unflinching scene violence set right word go trust show faint hearted timid show pull punch regard drug sex violence hardcore classic use word call oz nickname give oswald maximum security state penitentary focus mainly emerald city experimental section prison cell glass front face inwards privacy high agenda city home manyaryans muslim gangsta latino christian italian irish moreso scuffle death stare dodgy dealing shady agreement never far away would say main appeal show due fact go show would dare forget pretty picture paint mainstream audience forget charm forget romanceoz mess around first episode ever saw struck nasty surreal could say ready watch developed taste oz get accustom high level graphic violence violence injustice crooked guard sell nickel inmate kill order get away well mannered middle class inmate turn prison bitch due lack street skill prison experience watch oz may become comfortable uncomfortable viewingthat get touch darker side'"
      ]
     },
     "execution_count": 31,
     "metadata": {},
     "output_type": "execute_result"
    }
   ],
   "source": [
    "movie_re['lemmatized_tokens'][0]"
   ]
  },
  {
   "cell_type": "markdown",
   "id": "09b2da47",
   "metadata": {},
   "source": [
    "#### Stemming "
   ]
  },
  {
   "cell_type": "code",
   "execution_count": 47,
   "id": "17dec74e",
   "metadata": {},
   "outputs": [],
   "source": [
    "stemmer = SnowballStemmer(\"english\")\n",
    "movie_re['stemmed'] = movie_re['tokenized'].apply(lambda tokens: ' '.join([stemmer.stem(token) for token in tokens])) "
   ]
  },
  {
   "cell_type": "code",
   "execution_count": 48,
   "id": "a91c9527",
   "metadata": {},
   "outputs": [
    {
     "data": {
      "text/plain": [
       "'one review mention watch oz episod hook right exact happen first thing struck oz brutal unflinch scene violenc set right word go trust show faint heart timid show pull punch regard drug sex violenc hardcor classic use word call oz nicknam given oswald maximum secur state penitentari focus main emerald citi experiment section prison cell glass front face inward privaci high agenda citi home manyaryan muslim gangsta latino christian italian irish moreso scuffl death stare dodgi deal shadi agreement never far away would say main appeal show due fact goe show would dare forget pretti pictur paint mainstream audienc forget charm forget romanceoz mess around first episod ever saw struck nasti surreal could say readi watch develop tast oz got accustom high level graphic violenc violenc injustic crook guard sold nickel inmat kill order get away well manner middl class inmat turn prison bitch due lack street skill prison experi watch oz may becom comfort uncomfort viewingthat get touch darker side'"
      ]
     },
     "execution_count": 48,
     "metadata": {},
     "output_type": "execute_result"
    }
   ],
   "source": [
    "movie_re['stemmed'][0]"
   ]
  },
  {
   "cell_type": "code",
   "execution_count": 49,
   "id": "4f8415af",
   "metadata": {},
   "outputs": [
    {
     "data": {
      "text/plain": [
       "'one reviewers mentioned watching  oz episode hooked right exactly happened first thing struck oz brutality unflinching scenes violence set right word go trust show faint hearted timid show pulls punches regards drugs sex violence hardcore classic use word called oz nickname given oswald maximum security state penitentary focuses mainly emerald city experimental section prison cells glass fronts face inwards privacy high agenda city home manyaryans muslims gangstas latinos christians italians irish moreso scuffles death stares dodgy dealings shady agreements never far away would say main appeal show due fact goes shows would dare forget pretty pictures painted mainstream audiences forget charm forget romanceoz mess around first episode ever saw struck nasty surreal could say ready watched developed taste oz got accustomed high levels graphic violence violence injustice crooked guards sold nickel inmates kill order get away well mannered middle class inmates turned prison bitches due lack street skills prison experience watching oz may become comfortable uncomfortable viewingthat get touch darker side'"
      ]
     },
     "execution_count": 49,
     "metadata": {},
     "output_type": "execute_result"
    }
   ],
   "source": [
    "movie_re['review_transformed'][0]"
   ]
  },
  {
   "cell_type": "code",
   "execution_count": null,
   "id": "a17c3077",
   "metadata": {},
   "outputs": [],
   "source": []
  }
 ],
 "metadata": {
  "kernelspec": {
   "display_name": "Python 3 (ipykernel)",
   "language": "python",
   "name": "python3"
  },
  "language_info": {
   "codemirror_mode": {
    "name": "ipython",
    "version": 3
   },
   "file_extension": ".py",
   "mimetype": "text/x-python",
   "name": "python",
   "nbconvert_exporter": "python",
   "pygments_lexer": "ipython3",
   "version": "3.11.3"
  }
 },
 "nbformat": 4,
 "nbformat_minor": 5
}
